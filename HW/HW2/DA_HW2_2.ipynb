{
  "nbformat": 4,
  "nbformat_minor": 0,
  "metadata": {
    "colab": {
      "name": "DA_HW2_2.ipynb",
      "provenance": [],
      "collapsed_sections": []
    },
    "kernelspec": {
      "name": "python3",
      "display_name": "Python 3"
    },
    "language_info": {
      "name": "python"
    }
  },
  "cells": [
    {
      "cell_type": "markdown",
      "source": [
        "**Needed only to run the code on Google colab**"
      ],
      "metadata": {
        "id": "QgC7VcVMheVH"
      }
    },
    {
      "cell_type": "code",
      "execution_count": 1,
      "metadata": {
        "colab": {
          "base_uri": "https://localhost:8080/"
        },
        "id": "RhXDI8FtkPSg",
        "outputId": "40cf90e8-f87f-48d6-e6d3-c1d3f15173ce"
      },
      "outputs": [
        {
          "output_type": "stream",
          "name": "stdout",
          "text": [
            "Mounted at /content/drive\n"
          ]
        }
      ],
      "source": [
        "from google.colab import drive\n",
        "drive.mount('/content/drive')"
      ]
    },
    {
      "cell_type": "markdown",
      "source": [
        "# **Question 2: Clustering with K-means**"
      ],
      "metadata": {
        "id": "hfP4nzMXhd58"
      }
    },
    {
      "cell_type": "code",
      "source": [
        "import pandas as pd\n",
        "import numpy as np\n",
        "from sklearn.decomposition import PCA\n",
        "from sklearn.cluster import KMeans\n",
        "from sklearn.metrics import silhouette_score, adjusted_rand_score\n",
        "from sklearn.preprocessing import StandardScaler"
      ],
      "metadata": {
        "id": "cDjtWZqKkgtM"
      },
      "execution_count": 3,
      "outputs": []
    },
    {
      "cell_type": "code",
      "source": [
        "file_path = \"/content/drive/MyDrive/Dataset/DA/HW2/iris.csv\"\n",
        "\n",
        "\n",
        "\"\"\"\n",
        "Use the following 'file_path' variable if running on local machine.\n",
        "The file 'iris.csv' must be in the same directory as the program file.\n",
        "O/W change the 'file_path' to the directory where the dataset is stored.\n",
        "\"\"\"\n",
        "\n",
        "#file_path = \"./iris.csv\"\n",
        "\n",
        "df_data = pd.read_csv(file_path, header=None, names = ['x1', 'x2', 'x3', 'x4', 'Label'])\n"
      ],
      "metadata": {
        "id": "GzRCQaeqkljO"
      },
      "execution_count": 4,
      "outputs": []
    },
    {
      "cell_type": "markdown",
      "source": [
        "Pre-processing data"
      ],
      "metadata": {
        "id": "giDXizBClPAU"
      }
    },
    {
      "cell_type": "code",
      "source": [
        "df_data.dropna()\n",
        "\n",
        "df_train_data = df_data.iloc[:, :-1]\n",
        "\n",
        "df_data_scaled = (df_train_data - df_train_data.mean()) / (df_train_data.std())\n",
        "\n",
        "train_data = df_train_data.values\n",
        "\n",
        "\n",
        "train_data_scaled = StandardScaler().fit_transform(train_data)\n"
      ],
      "metadata": {
        "id": "wPptT6hPlKbl"
      },
      "execution_count": 8,
      "outputs": []
    },
    {
      "cell_type": "markdown",
      "source": [
        "**Creating numeric categorical labels**"
      ],
      "metadata": {
        "id": "hG0hv0-VXc7S"
      }
    },
    {
      "cell_type": "code",
      "source": [
        "class_labels = ['Iris-setosa', 'Iris-versicolor', 'Iris-virginica']\n",
        "\n",
        "train_label = df_data['Label'].apply(class_labels.index).values\n"
      ],
      "metadata": {
        "id": "t2hGywDbXKrx"
      },
      "execution_count": 9,
      "outputs": []
    },
    {
      "cell_type": "markdown",
      "source": [
        "PCA on non-scaled data"
      ],
      "metadata": {
        "id": "8UrEmx-YsWmJ"
      }
    },
    {
      "cell_type": "code",
      "source": [
        "pca_1 = PCA(n_components=1)\n",
        "pca_2 = PCA(n_components=2)\n",
        "pca_3 = PCA(n_components=3)\n",
        "pca_4 = PCA(n_components=4)\n",
        "\n",
        "data_reduced_1 = pca_1.fit_transform(train_data)\n",
        "data_reduced_2 = pca_2.fit_transform(train_data)\n",
        "data_reduced_3 = pca_3.fit_transform(train_data)\n",
        "data_reduced_4 = pca_4.fit_transform(train_data)\n"
      ],
      "metadata": {
        "id": "u6NI9gQLmKHw"
      },
      "execution_count": 10,
      "outputs": []
    },
    {
      "cell_type": "markdown",
      "source": [
        "**K-means on the reduced dimensionality of non-scaled data**"
      ],
      "metadata": {
        "id": "e0WFlu2XWjyN"
      }
    },
    {
      "cell_type": "code",
      "source": [
        "kmeans_1 = KMeans(n_clusters=3, random_state=0).fit_predict(data_reduced_1)\n",
        "kmeans_2 = KMeans(n_clusters=3, random_state=0).fit_predict(data_reduced_2)\n",
        "kmeans_3 = KMeans(n_clusters=3, random_state=0).fit_predict(data_reduced_3)\n",
        "kmeans_4 = KMeans(n_clusters=3, random_state=0).fit_predict(data_reduced_4)"
      ],
      "metadata": {
        "id": "Sd7Dfvkptguv"
      },
      "execution_count": 11,
      "outputs": []
    },
    {
      "cell_type": "code",
      "source": [
        "variance_ratio_1 = pca_1.explained_variance_ratio_\n",
        "variance_ratio_2 = pca_2.explained_variance_ratio_\n",
        "variance_ratio_3 = pca_3.explained_variance_ratio_\n",
        "variance_ratio_4 = pca_4.explained_variance_ratio_\n",
        "\n",
        "print(\"---non-scaled data---\\n\")\n",
        "\n",
        "print(\"variance_ratio_1 : \", sum(variance_ratio_1[:1]))\n",
        "print(\"variance_ratio_2 : \", sum(variance_ratio_2[:2]))\n",
        "print(\"variance_ratio_3 : \", sum(variance_ratio_3[:3]))\n",
        "print(\"variance_ratio_4 : \", sum(variance_ratio_4[:4]))\n",
        "\n",
        "print(\"\\n-----Eigen values-----\\n\")\n",
        "print(pca_4.explained_variance_)\n",
        "\n",
        "cov_mat = np.cov(data_reduced_4.T)\n",
        "\n",
        "print()\n",
        "print(\"Covariance matrix of transformed data\\n\")\n",
        "print(cov_mat)\n",
        "\n",
        "print()\n",
        "print(\"Covariance matrix of original data\\n\")\n",
        "print(np.cov(train_data.T))"
      ],
      "metadata": {
        "colab": {
          "base_uri": "https://localhost:8080/"
        },
        "id": "LY0CAWSZYLB_",
        "outputId": "45f9c443-182f-4594-9089-49fa6df4eeb7"
      },
      "execution_count": 12,
      "outputs": [
        {
          "output_type": "stream",
          "name": "stdout",
          "text": [
            "---non-scaled data---\n",
            "\n",
            "variance_ratio_1 :  0.9246187232017271\n",
            "variance_ratio_2 :  0.977685206318795\n",
            "variance_ratio_3 :  0.9947878161267247\n",
            "variance_ratio_4 :  1.0\n",
            "\n",
            "-----Eigen values-----\n",
            "\n",
            "[4.22824171 0.24267075 0.0782095  0.02383509]\n",
            "\n",
            "Covariance matrix of transformed data\n",
            "\n",
            "[[ 4.22824171e+00 -6.53655031e-17  5.32982294e-18 -1.09053687e-17]\n",
            " [-6.53655031e-17  2.42670748e-01  2.20342821e-17  9.43187254e-18]\n",
            " [ 5.32982294e-18  2.20342821e-17  7.82095000e-02  7.07169093e-18]\n",
            " [-1.09053687e-17  9.43187254e-18  7.07169093e-18  2.38350930e-02]]\n",
            "\n",
            "Covariance matrix of original data\n",
            "\n",
            "[[ 0.68569351 -0.042434    1.27431544  0.51627069]\n",
            " [-0.042434    0.18997942 -0.32965638 -0.12163937]\n",
            " [ 1.27431544 -0.32965638  3.11627785  1.2956094 ]\n",
            " [ 0.51627069 -0.12163937  1.2956094   0.58100626]]\n"
          ]
        }
      ]
    },
    {
      "cell_type": "code",
      "source": [
        "# scree plot\n",
        "import matplotlib.pyplot as plt\n",
        "\n",
        "x = [1, 2, 3, 4]\n",
        "y = variance_ratio_4.tolist()\n",
        "\n",
        "plt.plot(x, y, color='g')\n",
        "\n",
        "# naming the x axis\n",
        "plt.xlabel('i')\n",
        "# naming the y axis\n",
        "plt.ylabel(\"i th eigen value\")\n",
        " \n",
        "# giving a title to my graph\n",
        "plt.title('Scree plot for non-scaled data')\n",
        " \n",
        "# function to show the plot\n",
        "plt.show()\n",
        "\n"
      ],
      "metadata": {
        "colab": {
          "base_uri": "https://localhost:8080/",
          "height": 295
        },
        "id": "sX1Kb1vkqekz",
        "outputId": "01eb0a04-fe2d-4034-9140-dc18efd56357"
      },
      "execution_count": 13,
      "outputs": [
        {
          "output_type": "display_data",
          "data": {
            "image/png": "[encoded data removed]",
            "text/plain": [
              "<Figure size 432x288 with 1 Axes>"
            ]
          },
          "metadata": {
            "needs_background": "light"
          }
        }
      ]
    },
    {
      "cell_type": "markdown",
      "source": [
        "**PCA on scaled data**"
      ],
      "metadata": {
        "id": "h0at69pusZxA"
      }
    },
    {
      "cell_type": "code",
      "source": [
        "pca_scaled_1 = PCA(n_components=1)\n",
        "pca_scaled_2 = PCA(n_components=2)\n",
        "pca_scaled_3 = PCA(n_components=3)\n",
        "pca_scaled_4 = PCA(n_components=4)\n",
        "\n",
        "data_reduced_scaled_1 = pca_scaled_1.fit_transform(train_data_scaled)\n",
        "data_reduced_scaled_2 = pca_scaled_2.fit_transform(train_data_scaled)\n",
        "data_reduced_scaled_3 = pca_scaled_3.fit_transform(train_data_scaled)\n",
        "data_reduced_scaled_4 = pca_scaled_4.fit_transform(train_data_scaled)\n",
        "\n",
        "\n",
        "# scree plot\n",
        "import matplotlib.pyplot as plt\n",
        "\n",
        "y_scaled = pca_scaled_4.explained_variance_ratio_.tolist()\n",
        "\n",
        "plt.plot(x, y_scaled, color='b')\n",
        "\n",
        "# naming the x axis\n",
        "plt.xlabel('i')\n",
        "# naming the y axis\n",
        "plt.ylabel(\"i th eigen value\")\n",
        " \n",
        "# giving a title to my graph\n",
        "plt.title('Scree plot for scaled data')\n",
        " \n",
        "# function to show the plot\n",
        "plt.show()\n"
      ],
      "metadata": {
        "id": "QrmuUqoJscL4",
        "colab": {
          "base_uri": "https://localhost:8080/",
          "height": 295
        },
        "outputId": "b0b409c2-b11a-4bc9-a569-1db8eb9e059e"
      },
      "execution_count": 14,
      "outputs": [
        {
          "output_type": "display_data",
          "data": {
            "image/png": "[encoded data removed]",
            "text/plain": [
              "<Figure size 432x288 with 1 Axes>"
            ]
          },
          "metadata": {
            "needs_background": "light"
          }
        }
      ]
    },
    {
      "cell_type": "markdown",
      "source": [
        "**K-means on the reduced dimensionality of scaled data**"
      ],
      "metadata": {
        "id": "wfDSmc44WwgK"
      }
    },
    {
      "cell_type": "code",
      "source": [
        "kmeans_scaled_1 = KMeans(n_clusters=3, random_state=0).fit_predict(data_reduced_scaled_1)\n",
        "kmeans_scaled_2 = KMeans(n_clusters=3, random_state=0).fit_predict(data_reduced_scaled_2)\n",
        "kmeans_scaled_3 = KMeans(n_clusters=3, random_state=0).fit_predict(data_reduced_scaled_3)\n",
        "kmeans_scaled_4 = KMeans(n_clusters=3, random_state=0).fit_predict(data_reduced_scaled_4)"
      ],
      "metadata": {
        "id": "kjYzIajlWVbq"
      },
      "execution_count": 15,
      "outputs": []
    },
    {
      "cell_type": "markdown",
      "source": [
        "\n",
        "\n",
        "```\n",
        "*** Silhoutte score ***\n",
        "```\n",
        "\n",
        "\n",
        "The first clustering metric that we are going to calculate is the Silhoutte score. It is a Internal Evaluation metric. So for calculating this metric we\n",
        "don't need any groud truth. The metric is calculated based on the clustering result itself.\n",
        "\n",
        "Silhoutte score measures the separation in terms of distance between the clusters. It gives a measure of how close every point of a cluster is to the points in the neighbouring clusters. So for a sample the Silhoutte score is calculated using the mean intra-class distance and the mean distance between each point of the nearest class that the sample doesn't fall in. The mean of Silhoutte score or coefficient gives the mean/average Silhoutte score.\n",
        "\n",
        "\n",
        "\n",
        "```\n",
        "Explanation of the Silhoutte Score we got\n",
        "```\n",
        "\n",
        "Observing the results presented below, we see that the average Silhoutte score is highest/best for KMeans clustering performed on the transformed data after PCA with only one principle component. This is true for both scaled and non-scaled data. Observing both (for scaled and non-scaled data) the scree-plots above we see that there is a clear elbow visible at the second eigen value (so we should choose only the first eigen value). As there is not much difference in the Silhoutte score results between scaled and non-scaled data, we will hereby talk about only the KMeans results of the **non-Scaled** data.\n",
        "\n",
        "\n",
        "From the covariance matrix of the transformed data we see that the variance of the first principle component is much higher than that of the rest of the tree principle components. Then from the eigen values we see that the first eigen value is much higher than other three. Infact the eigen value and the variance of only the first principle component are greater than one. And also observing the Explained Variance Ratio we see that the first principle component covers more than 92% of the variance. So the clustering result based on the silhoutte score metric is best for the transformed data with only one principle component.\n",
        "\n",
        "\n",
        "\n",
        "\n",
        "\n",
        "\n",
        "\n",
        "\n"
      ],
      "metadata": {
        "id": "y-5jIJMsirhL"
      }
    },
    {
      "cell_type": "markdown",
      "source": [
        "**Average silhouette score of clustering results on non-scaled data**"
      ],
      "metadata": {
        "id": "y-8UQYslW-Tc"
      }
    },
    {
      "cell_type": "code",
      "source": [
        "\n",
        "score_1 = silhouette_score(data_reduced_1, labels = kmeans_1, metric='euclidean')\n",
        "score_2 = silhouette_score(data_reduced_2, labels = kmeans_2, metric='euclidean')\n",
        "score_3 = silhouette_score(data_reduced_3, labels = kmeans_3, metric='euclidean')\n",
        "score_4 = silhouette_score(data_reduced_4, labels = kmeans_4, metric='euclidean')\n",
        "\n",
        "print(\"-----Silhouette_score on non-Scaled data-----\\n\")\n",
        "print(\"Principle comp = 1, Silhouette_score -> \", score_1)\n",
        "print(\"Principle comp = 2, Silhouette_score -> \", score_2)\n",
        "print(\"Principle comp = 3, Silhouette_score -> \", score_3)\n",
        "print(\"Principle comp = 4, Silhouette_score -> \", score_4)\n",
        "print()"
      ],
      "metadata": {
        "colab": {
          "base_uri": "https://localhost:8080/"
        },
        "id": "9IltyxXBB2ZL",
        "outputId": "e5fe2c67-b9c7-4489-c37c-df8e623dcc5f"
      },
      "execution_count": 20,
      "outputs": [
        {
          "output_type": "stream",
          "name": "stdout",
          "text": [
            "-----Silhouette_score on non-Scaled data-----\n",
            "\n",
            "Principle comp = 1, Silhouette_score ->  0.6770761192800119\n",
            "Principle comp = 2, Silhouette_score ->  0.597676421954799\n",
            "Principle comp = 3, Silhouette_score ->  0.5630437008750581\n",
            "Principle comp = 4, Silhouette_score ->  0.55281901235641\n",
            "\n"
          ]
        }
      ]
    },
    {
      "cell_type": "markdown",
      "source": [
        "**Average silhouette score of clustering results on scaled data**"
      ],
      "metadata": {
        "id": "sgHlDX_XBzmK"
      }
    },
    {
      "cell_type": "code",
      "source": [
        "\n",
        "score_scaled_1 = silhouette_score(data_reduced_scaled_1, labels = kmeans_scaled_1, metric='euclidean')\n",
        "score_scaled_2 = silhouette_score(data_reduced_scaled_2, labels = kmeans_scaled_2, metric='euclidean')\n",
        "score_scaled_3 = silhouette_score(data_reduced_scaled_3, labels = kmeans_scaled_3, metric='euclidean')\n",
        "score_scaled_4 = silhouette_score(data_reduced_scaled_4, labels = kmeans_scaled_4, metric='euclidean')\n",
        "\n",
        "print(\"---Silhouette_score on Scaled data---\\n\")\n",
        "print(\"Principle comp = 1, Silhouette_score -> \", score_scaled_1)\n",
        "print(\"Principle comp = 2, Silhouette_score -> \", score_scaled_2)\n",
        "print(\"Principle comp = 3, Silhouette_score -> \", score_scaled_3)\n",
        "print(\"Principle comp = 4, Silhouette_score -> \", score_scaled_4)\n",
        "\n",
        "print()"
      ],
      "metadata": {
        "colab": {
          "base_uri": "https://localhost:8080/"
        },
        "id": "SVLwDapkW0pP",
        "outputId": "9137c35d-e0c4-4273-f32c-3bf53e5479fe"
      },
      "execution_count": 21,
      "outputs": [
        {
          "output_type": "stream",
          "name": "stdout",
          "text": [
            "---Silhouette_score on Scaled data---\n",
            "\n",
            "Principle comp = 1, Silhouette_score ->  0.6754183875905304\n",
            "Principle comp = 2, Silhouette_score ->  0.5091683341538228\n",
            "Principle comp = 3, Silhouette_score ->  0.46613062910381436\n",
            "Principle comp = 4, Silhouette_score ->  0.45994823920518657\n",
            "\n"
          ]
        }
      ]
    },
    {
      "cell_type": "markdown",
      "source": [
        "\n",
        "\n",
        "```\n",
        "*** Adjusted Rand Index ***\n",
        "```\n",
        "It is an external evaluation matrix for clustering performance. It requires ground truth labels. Once again observing the results presented below we see that the adjusted rand index score is highest for transformed data using one principle component. And once again the observation is same for both scaled and non-scaled data. Even though the measure for scaled data is a bit better compared to that of non-scaled data. But they both fall in the same range (0.65 < ARI <= 0.80). The reason for the transformed data using PCA with one principle component outperforming the other three is same as before, the first principle component captures most variance.\n",
        "\n",
        "[The Rand Index computes a similarity measure between two clusterings by considering all pairs of samples and counting pairs that are assigned in the same or different clusters in the predicted and true clusterings.](https://towardsdatascience.com/performance-metrics-in-machine-learning-part-3-clustering-d69550662dc6) \n",
        "\n",
        "So lets say the clustering result C = [0,0,1,1] and the Ground truth GT = [0,0,1,1]. The Rand Index measure would be 1. Even if the GT or C changes to following [1,1,0,0] or [3,3,2,2] the Rand Index measure stays the same as long as the first two elements and the last two elements are paired together no matter the cluster label. As the Rand Index measures if the algorithm puts a pair of elements together or not. In the above two cases no matter the orientation of the GT and C. The first two elements are in the same cluster and the second two elements are put in the same cluster.\n",
        "\n",
        "\n",
        "\n",
        "```\n",
        "GT = [0,0,1,1] or [1,1,0,0]\n",
        "C =  [0,0,1,1] or [1,1,0,0] or even [2,2,5,5]\n",
        "```\n",
        "\n",
        "No matter what the labelling is as long as the first two elements and the second two elements are put together the measure stays the same.\n",
        "\n",
        "\n",
        "\n",
        "```\n",
        "# **Comparison between Silhoutte Score and Adjusted Rand Index**\n",
        "```\n",
        "\n",
        "From the discussion presented above we can see that Silhoutte Score measures the clustering performance in terms of distance or separability between the clusters and intra class variance. Where as the Adjusted Rand Index measures performance in terms of paired groupings. Based on every pair of elements in the two clusters to be measured are put together or not put together the clustering score of Adjusted Rand Index stays the same.\n",
        "\n",
        "In the dataset given to us the variance was a bit less which is evidenced by the covariance matrices and eigen values as well. So for any number of principle components (1,2,3 or 4) we see that the measurement of Adjusted Rand Index is higher than the measurement of Silhoutte Score.\n",
        "\n",
        "\n",
        "\n",
        "\n",
        "\n",
        "\n"
      ],
      "metadata": {
        "id": "xqKT-WI_5P5I"
      }
    },
    {
      "cell_type": "markdown",
      "source": [
        "**adjusted_rand_score on KMeans of the non-scaled data**"
      ],
      "metadata": {
        "id": "uQ018LhOSVjB"
      }
    },
    {
      "cell_type": "code",
      "source": [
        "ars_1 = adjusted_rand_score(kmeans_1, train_label)\n",
        "ars_2 = adjusted_rand_score(kmeans_2, train_label)\n",
        "ars_3 = adjusted_rand_score(kmeans_3, train_label)\n",
        "ars_4 = adjusted_rand_score(kmeans_4, train_label)\n",
        "\n",
        "print(\"---Adjusted Rand score on non-scaled data---\\n\")\n",
        "print(\"Adjusted Rand Score for 1 principle comp: \", ars_1)\n",
        "print(\"Adjusted Rand Score for 2 principle comp: \", ars_2)\n",
        "print(\"Adjusted Rand Score for 3 principle comp: \", ars_3)\n",
        "print(\"Adjusted Rand Score for 4 principle comp: \", ars_4)\n",
        "print()"
      ],
      "metadata": {
        "colab": {
          "base_uri": "https://localhost:8080/"
        },
        "id": "MXB0eg4ESSAj",
        "outputId": "24a07be1-8692-45ee-ff08-10a0cbd90c53"
      },
      "execution_count": 18,
      "outputs": [
        {
          "output_type": "stream",
          "name": "stdout",
          "text": [
            "---Adjusted Rand score on non-scaled data---\n",
            "\n",
            "Adjusted Rand Score for 1 principle comp:  0.7726314170414115\n",
            "Adjusted Rand Score for 2 principle comp:  0.7163421126838476\n",
            "Adjusted Rand Score for 3 principle comp:  0.7302382722834697\n",
            "Adjusted Rand Score for 4 principle comp:  0.7302382722834697\n",
            "\n"
          ]
        }
      ]
    },
    {
      "cell_type": "markdown",
      "source": [
        "**adjusted_rand_score on KMeans of the scaled data**"
      ],
      "metadata": {
        "id": "T_ynVe36YkTQ"
      }
    },
    {
      "cell_type": "code",
      "source": [
        "ars_scaled_1 = adjusted_rand_score(kmeans_scaled_1, train_label)\n",
        "ars_scaled_2 = adjusted_rand_score(kmeans_scaled_2, train_label)\n",
        "ars_scaled_3 = adjusted_rand_score(kmeans_scaled_3, train_label)\n",
        "ars_scaled_4 = adjusted_rand_score(kmeans_scaled_4, train_label)\n",
        "\n",
        "print(\"---Adjusted Rand score on scaled data---\\n\")\n",
        "print(\"Adjusted Rand Score for 1 principle comp: \", ars_scaled_1)\n",
        "print(\"Adjusted Rand Score for 2 principle comp: \", ars_scaled_2)\n",
        "print(\"Adjusted Rand Score for 3 principle comp: \", ars_scaled_3)\n",
        "print(\"Adjusted Rand Score for 4 principle comp: \", ars_scaled_4)\n",
        "print()"
      ],
      "metadata": {
        "colab": {
          "base_uri": "https://localhost:8080/"
        },
        "id": "aV-yr0h_Yhkr",
        "outputId": "afc3b2a0-da32-4ead-ace8-03490a601e7f"
      },
      "execution_count": 19,
      "outputs": [
        {
          "output_type": "stream",
          "name": "stdout",
          "text": [
            "---Adjusted Rand score on scaled data---\n",
            "\n",
            "Adjusted Rand Score for 1 principle comp:  0.8015498244339508\n",
            "Adjusted Rand Score for 2 principle comp:  0.6201351808870379\n",
            "Adjusted Rand Score for 3 principle comp:  0.6201351808870379\n",
            "Adjusted Rand Score for 4 principle comp:  0.6201351808870379\n",
            "\n"
          ]
        }
      ]
    }
  ]
}