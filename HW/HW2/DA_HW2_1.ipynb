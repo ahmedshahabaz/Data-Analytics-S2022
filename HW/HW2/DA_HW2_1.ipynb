{
  "nbformat": 4,
  "nbformat_minor": 0,
  "metadata": {
    "colab": {
      "name": "DA_HW2_1.ipynb",
      "provenance": [],
      "collapsed_sections": []
    },
    "kernelspec": {
      "name": "python3",
      "display_name": "Python 3"
    },
    "language_info": {
      "name": "python"
    }
  },
  "cells": [
    {
      "cell_type": "markdown",
      "source": [
        "**Needed only to run the code on Google colab**"
      ],
      "metadata": {
        "id": "qYu1ObHAQDT0"
      }
    },
    {
      "cell_type": "code",
      "source": [
        "from google.colab import drive\n",
        "drive.mount('/content/drive')"
      ],
      "metadata": {
        "id": "Pj1AQCqtTS1p",
        "colab": {
          "base_uri": "https://localhost:8080/"
        },
        "outputId": "7596fbf0-c171-4826-f5f4-35dc17b9a9ea"
      },
      "execution_count": 2,
      "outputs": [
        {
          "output_type": "stream",
          "name": "stdout",
          "text": [
            "Mounted at /content/drive\n"
          ]
        }
      ]
    },
    {
      "cell_type": "markdown",
      "source": [
        "# Question 1: Dimensionality Reduction PCA "
      ],
      "metadata": {
        "id": "2iAk9mRxhUH6"
      }
    },
    {
      "cell_type": "code",
      "source": [
        "import pandas as pd\n",
        "import numpy as np\n",
        "from sklearn.decomposition import PCA\n",
        "from sklearn.preprocessing import StandardScaler"
      ],
      "metadata": {
        "id": "H_QIXv4QSoxu"
      },
      "execution_count": 41,
      "outputs": []
    },
    {
      "cell_type": "code",
      "source": [
        "\n",
        "file_path = \"/content/drive/MyDrive/Dataset/DA/HW2/url-data.txt\"\n",
        "\n",
        "\"\"\"\n",
        "Use the following 'file_path' variable if running on local machine.\n",
        "The file 'iris.csv' must be in the same directory as the program file.\n",
        "O/W change the 'file_path' to the directory where the dataset is stored.\n",
        "\"\"\"\n",
        "\n",
        "#file_path = \"./url-data.txt\"\n",
        "\n",
        "df_data = pd.read_csv(file_path)\n"
      ],
      "metadata": {
        "id": "BOeGjbcWURBD"
      },
      "execution_count": 42,
      "outputs": []
    },
    {
      "cell_type": "markdown",
      "source": [
        "Pre-processing data"
      ],
      "metadata": {
        "id": "lzxmqQcgZfhZ"
      }
    },
    {
      "cell_type": "code",
      "source": [
        "df_data.dropna()\n",
        "\n",
        "df_train_data = df_data.iloc[:, 1:]\n",
        "\n",
        "df_data_scaled = (df_train_data - df_train_data.mean()) / (df_train_data.std())\n",
        "\n",
        "train_data = df_train_data.values\n",
        "train_label = df_data.iloc[:, 0].values\n",
        "\n",
        "df_data_scaled.dropna()\n",
        "train_data_scaled = StandardScaler().fit_transform(train_data)\n",
        "\n",
        "\n",
        "print(train_data_scaled)"
      ],
      "metadata": {
        "id": "VdAMxrbeY0nq",
        "colab": {
          "base_uri": "https://localhost:8080/"
        },
        "outputId": "985031f1-be9c-46f7-c3f8-d3cab802c465"
      },
      "execution_count": 43,
      "outputs": [
        {
          "output_type": "stream",
          "name": "stdout",
          "text": [
            "[[-0.65466981 -0.5912059   0.08517171 ... -0.12874791 -0.16518144\n",
            "  -0.04476615]\n",
            " [ 1.71777468 -0.10030701  1.13667433 ... -0.21184327 -0.16518144\n",
            "  -0.04476615]\n",
            " [-0.21764057  0.71785781 -0.96633091 ... -0.23954172 -0.16518144\n",
            "  -0.04476615]\n",
            " ...\n",
            " [-0.46737157 -0.10030701  0.08517171 ... -0.23954172 -0.16518144\n",
            "  -0.04476615]\n",
            " [-0.90440081 -1.08210479 -0.96633091 ... -0.23954172 -0.16518144\n",
            "  -0.04476615]\n",
            " [-0.34250607  0.22695892  0.08517171 ... -0.20261045 -0.16518144\n",
            "  -0.04476615]]\n"
          ]
        }
      ]
    },
    {
      "cell_type": "markdown",
      "source": [
        "**PCA for non-scaled data**"
      ],
      "metadata": {
        "id": "VUo8pGlJ-mb4"
      }
    },
    {
      "cell_type": "code",
      "source": [
        "pca_full = PCA(n_components=64)\n",
        "data_reduced = pca_full.fit_transform(train_data)\n",
        "\n",
        "eigenvalues_full = pca_full.explained_variance_\n",
        "variance_ratio_full = pca_full.explained_variance_ratio_\n"
      ],
      "metadata": {
        "id": "X5UNq9VMWeZO"
      },
      "execution_count": 44,
      "outputs": []
    },
    {
      "cell_type": "markdown",
      "source": [
        "**Function for calculating minimum # principle components required from variance ratio**"
      ],
      "metadata": {
        "id": "cqdp3oC0FI_M"
      }
    },
    {
      "cell_type": "code",
      "source": [
        "def calc_min_principle_comp_required(variance_ratio, variance_ratio_threshold):\n",
        "  \n",
        "  maintained_variance_ratio = 0.0\n",
        "  n = 1\n",
        "\n",
        "  while maintained_variance_ratio < variance_ratio_threshold:\n",
        "\n",
        "    maintained_variance_ratio = sum(variance_ratio[:n])\n",
        "    n+=1\n",
        "\n",
        "  return n-1\n"
      ],
      "metadata": {
        "id": "Bso7jIBfBDYR"
      },
      "execution_count": 45,
      "outputs": []
    },
    {
      "cell_type": "markdown",
      "source": [
        "Calculating minimum # of principal components for **non-scaled data** from maintained variance ratio"
      ],
      "metadata": {
        "id": "MsNdjL0HBEDg"
      }
    },
    {
      "cell_type": "code",
      "source": [
        "principal_component_count_95 = calc_min_principle_comp_required(variance_ratio_full, 0.95)\n",
        "\n",
        "principal_component_count_99 = calc_min_principle_comp_required(variance_ratio_full, 0.99)\n",
        "\n",
        "print(\"For non-scaled data minimum # principal component required to maintaine 95% variance is : \",  principal_component_count_95)\n",
        "\n",
        "print()\n",
        "\n",
        "print(\"For non-scaled data minimum # principal component required to maintaine 99% variance is : \",  principal_component_count_99)\n",
        "\n",
        "print()\n"
      ],
      "metadata": {
        "colab": {
          "base_uri": "https://localhost:8080/"
        },
        "id": "IjriCabRFbdQ",
        "outputId": "3df0950e-29ef-4093-c0b7-e678c3a3239c"
      },
      "execution_count": 46,
      "outputs": [
        {
          "output_type": "stream",
          "name": "stdout",
          "text": [
            "For non-scaled data minimum # principal component required to maintaine 95% variance is :  14\n",
            "\n",
            "For non-scaled data minimum # principal component required to maintaine 99% variance is :  23\n",
            "\n"
          ]
        }
      ]
    },
    {
      "cell_type": "markdown",
      "source": [
        "**PCA for scaled data**"
      ],
      "metadata": {
        "id": "DPSI9lFL-lKq"
      }
    },
    {
      "cell_type": "code",
      "source": [
        "pca_full_scaled = PCA(n_components=64)\n",
        "data_reduced_scaled = pca_full_scaled.fit_transform(train_data_scaled)\n",
        "\n",
        "eigenvalues_full_scaled = pca_full_scaled.explained_variance_\n",
        "variance_ratio_full_scaled = pca_full_scaled.explained_variance_ratio_"
      ],
      "metadata": {
        "id": "755IGtmlHMCA"
      },
      "execution_count": 47,
      "outputs": []
    },
    {
      "cell_type": "markdown",
      "source": [
        "Calculating minimum # of principal components for **scaled data** from maintained variance ratio"
      ],
      "metadata": {
        "id": "Zio-2ReSH3n-"
      }
    },
    {
      "cell_type": "code",
      "source": [
        "principal_component_count_scaled_95 = calc_min_principle_comp_required(variance_ratio_full_scaled, 0.95)\n",
        "\n",
        "principal_component_count_scaled_99 = calc_min_principle_comp_required(variance_ratio_full_scaled, 0.99)\n",
        "\n",
        "print(\"For scaled data minimum # principal component required to maintaine 95% variance is : \",  principal_component_count_scaled_95)\n",
        "\n",
        "print()\n",
        "\n",
        "print(\"For scaled data minimum # principal component required to maintaine 99% variance is : \",  principal_component_count_scaled_99)"
      ],
      "metadata": {
        "colab": {
          "base_uri": "https://localhost:8080/"
        },
        "id": "_tlNPokUH8EF",
        "outputId": "764c7e7d-0d24-4365-b441-bf7de9987fe6"
      },
      "execution_count": 49,
      "outputs": [
        {
          "output_type": "stream",
          "name": "stdout",
          "text": [
            "For scaled data minimum # principal component required to maintaine 95% variance is :  22\n",
            "\n",
            "For scaled data minimum # principal component required to maintaine 99% variance is :  29\n"
          ]
        }
      ]
    },
    {
      "cell_type": "markdown",
      "source": [
        "Scree plot for non-scaled data"
      ],
      "metadata": {
        "id": "LiArMKnFJHND"
      }
    },
    {
      "cell_type": "code",
      "source": [
        "import matplotlib.pyplot as plt\n",
        "\n",
        "x = list(range(1, 65))\n",
        "\n",
        "y = variance_ratio_full.tolist()\n",
        "\n",
        "plt.plot(x, y, color='g')\n",
        "\n",
        "# naming the x axis\n",
        "plt.xlabel('i')\n",
        "# naming the y axis\n",
        "plt.ylabel(\"i th eigen value\")\n",
        " \n",
        "# giving a title to my graph\n",
        "plt.title('Scree plot for non-scaled data')\n",
        " \n",
        "# function to show the plot\n",
        "plt.show()\n",
        "\n"
      ],
      "metadata": {
        "colab": {
          "base_uri": "https://localhost:8080/",
          "height": 295
        },
        "id": "U6TYjZAuJFf4",
        "outputId": "71b6fdf9-e55c-434a-9403-b151ebc136ef"
      },
      "execution_count": 50,
      "outputs": [
        {
          "output_type": "display_data",
          "data": {
            "image/png": "[encoded data removed]",
            "text/plain": [
              "<Figure size 432x288 with 1 Axes>"
            ]
          },
          "metadata": {
            "needs_background": "light"
          }
        }
      ]
    },
    {
      "cell_type": "markdown",
      "source": [
        "Scree plot for scaled data"
      ],
      "metadata": {
        "id": "3UNc2JBfVKBK"
      }
    },
    {
      "cell_type": "code",
      "source": [
        "import matplotlib.pyplot as plt\n",
        "\n",
        "x = list(range(1, 65))\n",
        "\n",
        "y = variance_ratio_full_scaled.tolist()\n",
        "\n",
        "plt.plot(x, y, color='b')\n",
        "\n",
        "# naming the x axis\n",
        "plt.xlabel('i')\n",
        "# naming the y axis\n",
        "plt.ylabel(\"i th eigen value\")\n",
        " \n",
        "# giving a title to my graph\n",
        "plt.title('Scree plot for scaled data')\n",
        " \n",
        "# function to show the plot\n",
        "plt.show()"
      ],
      "metadata": {
        "colab": {
          "base_uri": "https://localhost:8080/",
          "height": 295
        },
        "id": "-rJEJY01VOuR",
        "outputId": "c347a16a-160f-4a9d-d89d-2c11280847ef"
      },
      "execution_count": 51,
      "outputs": [
        {
          "output_type": "display_data",
          "data": {
            "image/png": "[encoded data removed]",
            "text/plain": [
              "<Figure size 432x288 with 1 Axes>"
            ]
          },
          "metadata": {
            "needs_background": "light"
          }
        }
      ]
    }
  ]
}