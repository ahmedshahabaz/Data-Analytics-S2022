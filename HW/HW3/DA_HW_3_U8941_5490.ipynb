{
  "nbformat": 4,
  "nbformat_minor": 0,
  "metadata": {
    "colab": {
      "name": "DA_HW_3_U8941-5490.ipynb",
      "provenance": [],
      "collapsed_sections": [
        "bQVbSTr-52Nb",
        "m5vdClgiC3af",
        "g5atfnJVYmov",
        "9V18rn37hEzV",
        "44W9Ly7rV8sM"
      ]
    },
    "kernelspec": {
      "name": "python3",
      "display_name": "Python 3"
    },
    "language_info": {
      "name": "python"
    }
  },
  "cells": [
    {
      "cell_type": "code",
      "execution_count": 200,
      "metadata": {
        "colab": {
          "base_uri": "https://localhost:8080/"
        },
        "id": "umLqDib8FZ_M",
        "outputId": "8bbec415-bde9-47c9-8690-b0cc4392fb22"
      },
      "outputs": [
        {
          "output_type": "stream",
          "name": "stdout",
          "text": [
            "Drive already mounted at /content/drive; to attempt to forcibly remount, call drive.mount(\"/content/drive\", force_remount=True).\n"
          ]
        }
      ],
      "source": [
        "from google.colab import drive\n",
        "drive.mount('/content/drive')"
      ]
    },
    {
      "cell_type": "code",
      "source": [
        "import pandas as pd\n",
        "import numpy as np"
      ],
      "metadata": {
        "id": "aWuBpiNKFesi"
      },
      "execution_count": 201,
      "outputs": []
    },
    {
      "cell_type": "code",
      "source": [
        "file_path = \"/content/drive/MyDrive/Dataset/DA/HW3/breast-cancer-wisconsin.csv\"\n",
        "\n",
        "df_data = pd.read_csv(file_path, header=None, names = ['ID', 'x0', 'x1', 'x2', 'x3','x4','x5','x6','x7', 'x8', 'Label'])\n"
      ],
      "metadata": {
        "id": "5Rm8_SAPFgb1"
      },
      "execution_count": 202,
      "outputs": []
    },
    {
      "cell_type": "code",
      "source": [
        "df_data.dropna()\n",
        "\n",
        "df_train_data = df_data.iloc[:400, 1:-1]\n",
        "df_test_data = df_data.iloc[400:,1:-1]\n",
        "\n",
        "\n",
        "train_data = df_train_data.values\n",
        "test_data = df_test_data.values\n",
        "\n",
        "train_label = df_data.iloc[0:400, 10].values\n",
        "test_label = df_data.iloc[400:,10].values\n",
        "\n",
        "train_label = (train_label/2) -1\n",
        "test_label = (test_label/2) -1\n",
        "\n",
        "print(train_data.shape)\n",
        "\n",
        "print(train_data)\n"
      ],
      "metadata": {
        "colab": {
          "base_uri": "https://localhost:8080/"
        },
        "id": "LjSmIkt2GHbH",
        "outputId": "3c5a60af-925b-4103-a617-4a2c3bb80f34"
      },
      "execution_count": 223,
      "outputs": [
        {
          "output_type": "stream",
          "name": "stdout",
          "text": [
            "(400, 9)\n",
            "[[ 5  1  1 ...  3  1  1]\n",
            " [ 5  4  4 ...  3  2  1]\n",
            " [ 3  1  1 ...  3  1  1]\n",
            " ...\n",
            " [10 10 10 ...  8  5  1]\n",
            " [ 5  1  2 ...  3  1  1]\n",
            " [ 8  5  6 ...  6  6  1]]\n"
          ]
        }
      ]
    },
    {
      "cell_type": "markdown",
      "source": [
        "# **Functions to calculate Miss Classification Rate and RMS margin**"
      ],
      "metadata": {
        "id": "RztEyKYbI82Q"
      }
    },
    {
      "cell_type": "code",
      "source": [
        "def miss_classification_rate(test_pred):\n",
        "  comparison = np.equal(test_label, test_pred)\n",
        "  MCR = 1 - np.count_nonzero(comparison)/test_data.shape[0]\n",
        "\n",
        "  return MCR, comparison\n",
        "\n",
        "def RMS_func(correct_classified_prob):\n",
        "  M_c = correct_classified_prob.shape[0]\n",
        "  RMS = np.sqrt(((1/M_c) * np.sum( (correct_classified_prob-0.5)**2) ) )\n",
        "\n",
        "  return RMS\n",
        "\n"
      ],
      "metadata": {
        "id": "H2oZx1AlA2LC"
      },
      "execution_count": 204,
      "outputs": []
    },
    {
      "cell_type": "markdown",
      "source": [
        "# **Function to Calculate Weighted Cost**"
      ],
      "metadata": {
        "id": "PuG2dPPBZOua"
      }
    },
    {
      "cell_type": "code",
      "source": [
        "# Weighted cost\n",
        "\n",
        "def weighted_cost(comp_ar):\n",
        "  \n",
        "  incorrect_indices = np.where(comp_ar == 0)[0]\n",
        "  cost = 0.0\n",
        "\n",
        "  for i in incorrect_indices:\n",
        "\n",
        "    if (test_label[i]==0):\n",
        "      cost += 1.0\n",
        "    else:\n",
        "      cost += 100.0\n",
        "\n",
        "  return cost * (1/6916)\n"
      ],
      "metadata": {
        "id": "FYL9GC-CWKyH"
      },
      "execution_count": 205,
      "outputs": []
    },
    {
      "cell_type": "markdown",
      "source": [
        "# **Question 1 (a) Logistic Regression**"
      ],
      "metadata": {
        "id": "VX-_Ol8W3DVK"
      }
    },
    {
      "cell_type": "code",
      "source": [
        "\n",
        "# helpful functions\n",
        "\n",
        "# X is the train data\n",
        "# w is the weight vector\n",
        "\n",
        "def sigmoid(X, w):\n",
        "  return 1/(1 + np.exp(-np.linalg.multi_dot([w,X.T])))\n",
        "\n",
        "# X is the array containing train data\n",
        "# C is the ground truth class label\n",
        "# w is the updated weight vector\n",
        "\n",
        "def loss_func(X,C, w):\n",
        "  Y = sigmoid(X, w)\n",
        "  cross_entropy_loss = - np.sum((C * np.log(Y) + (1-C)* np.log(1 - Y)))\n",
        "\n",
        "  return cross_entropy_loss"
      ],
      "metadata": {
        "id": "jQ6bDNfsOqNR"
      },
      "execution_count": 206,
      "outputs": []
    },
    {
      "cell_type": "code",
      "source": [
        "#defining parameters\n",
        "\n",
        "max_iter = 1000\n",
        "\n",
        "#step_size\n",
        "eta = 0.001\n",
        "\n",
        "\n",
        "# X is train data\n",
        "# C is train labels\n",
        "\n",
        "def train(X,C):\n",
        "  \n",
        "  #initialize weight vector (w)\n",
        "  w = np.zeros([1,10])\n",
        "  X = np.append(X, np.ones([400,1]), axis = 1)\n",
        "  #w = np.random.normal(0, 1, size=(1, 9))\n",
        "\n",
        "  loss = []\n",
        "  for i in range(max_iter):\n",
        "    Y = sigmoid(X, w)\n",
        "    temp = Y - C\n",
        "    delta_E = np.linalg.multi_dot([temp, X])\n",
        "\n",
        "    w = w - eta * delta_E\n",
        "\n",
        "    loss.append(loss_func(X,C,w))\n",
        "\n",
        "    if ( abs(loss[i] - loss[i-1]) < 0.001 and i > 100 ):\n",
        "      break\n",
        "\n",
        "  return loss, w\n",
        "\n",
        "def predict(X, w):\n",
        "  X = np.append(X, np.ones([283,1]), axis = 1)\n",
        "  prediction = np.linalg.multi_dot([w,X.T]).squeeze()\n",
        "  C_hat = []\n",
        "\n",
        "  for p in prediction:\n",
        "    \n",
        "    if (p >=0):\n",
        "      C_hat.append(1)\n",
        "    else:\n",
        "      C_hat.append(0)\n",
        "    \n",
        "  return C_hat\n",
        "\n",
        "\n",
        "loss_ , w = train(train_data, train_label)\n"
      ],
      "metadata": {
        "colab": {
          "base_uri": "https://localhost:8080/"
        },
        "id": "NFoKU8QLPdRB",
        "outputId": "968b713f-0160-4079-a305-f1c3480cdc1f"
      },
      "execution_count": 207,
      "outputs": [
        {
          "output_type": "stream",
          "name": "stderr",
          "text": [
            "/usr/local/lib/python3.7/dist-packages/ipykernel_launcher.py:16: RuntimeWarning: divide by zero encountered in log\n",
            "  app.launch_new_instance()\n",
            "/usr/local/lib/python3.7/dist-packages/ipykernel_launcher.py:16: RuntimeWarning: invalid value encountered in multiply\n",
            "  app.launch_new_instance()\n"
          ]
        }
      ]
    },
    {
      "cell_type": "code",
      "source": [
        "import matplotlib.pyplot as plt\n",
        "\n",
        "x = range(0,len(loss_))\n",
        "y = loss_\n",
        "\n",
        "plt.plot(x, y, color='g')\n",
        "\n",
        "# naming the x axis\n",
        "plt.xlabel('i')\n",
        "# naming the y axis\n",
        "plt.ylabel(\"Loss at i'th iteration\")\n",
        " \n",
        "# giving a title to my graph\n",
        "plt.title('Loss function plot')\n",
        " \n",
        "# function to show the plot\n",
        "plt.show()\n"
      ],
      "metadata": {
        "colab": {
          "base_uri": "https://localhost:8080/",
          "height": 295
        },
        "id": "mdLdeiq4lNo5",
        "outputId": "80c21043-480b-4ada-8079-13d316630267"
      },
      "execution_count": 208,
      "outputs": [
        {
          "output_type": "display_data",
          "data": {
            "text/plain": [
              "<Figure size 432x288 with 1 Axes>"
            ],
            "image/png": "[encoded data removed]"
          },
          "metadata": {
            "needs_background": "light"
          }
        }
      ]
    },
    {
      "cell_type": "markdown",
      "source": [
        "**Calculating MCR, RMS and Weighted Cost for Logistic Regression**"
      ],
      "metadata": {
        "id": "hiFY_RnmWJYZ"
      }
    },
    {
      "cell_type": "code",
      "source": [
        "C_hat = predict(test_data, w)\n",
        "C_hat = np.array(C_hat)\n",
        "\n",
        "MCR_LR, comparison_LR = miss_classification_rate(C_hat)\n",
        "\n",
        "print(\"Number of miss classified instances: \", 283 - np.count_nonzero(comparison_LR))\n",
        "print()\n",
        "print(\"Miss Classified Rate: \", MCR_LR)\n",
        "print()\n",
        "\n",
        "# Calculating RMS\n",
        "\n",
        "prob_LR = sigmoid(np.append(test_data, np.ones([283,1]), axis = 1), w).squeeze()\n",
        "correct_classified_prob_LR = prob_LR[comparison_LR]\n",
        "\n",
        "RMS_LR = RMS_func(correct_classified_prob_LR)\n",
        "print(\"RMS margin for LR: \", RMS_LR)\n",
        "\n",
        "# \"\"\"*** Weighted Cost of Logistic Regression***\"\"\"\n",
        "print()\n",
        "weighted_cost_LR = weighted_cost(comparison_LR)\n",
        "\n",
        "print(\"***** Weighted Cost of LR *****\\n\")\n",
        "print(weighted_cost_LR)\n"
      ],
      "metadata": {
        "colab": {
          "base_uri": "https://localhost:8080/"
        },
        "id": "SbJT5t-s9S1z",
        "outputId": "848308fc-5bdb-47e7-8a9c-d226d26ba25b"
      },
      "execution_count": 209,
      "outputs": [
        {
          "output_type": "stream",
          "name": "stdout",
          "text": [
            "Number of miss classified instances:  3\n",
            "\n",
            "Miss Classified Rate:  0.010600706713780883\n",
            "\n",
            "RMS margin for LR:  0.46687549965023\n",
            "\n",
            "***** Weighted Cost of LR *****\n",
            "\n",
            "0.01474840948525159\n"
          ]
        }
      ]
    },
    {
      "cell_type": "code",
      "source": [
        ""
      ],
      "metadata": {
        "id": "4eldU2Pk6IRf"
      },
      "execution_count": 209,
      "outputs": []
    },
    {
      "cell_type": "markdown",
      "source": [
        "# **Question 1 (b) KNN classifier**"
      ],
      "metadata": {
        "id": "bQVbSTr-52Nb"
      }
    },
    {
      "cell_type": "code",
      "source": [
        "from sklearn.neighbors import KNeighborsClassifier\n",
        "MCR_knn = []\n",
        "number_miss_clsf_KNN = []\n",
        "weighted_cost_KNN = []\n",
        "\n",
        "for k in range(10):\n",
        "    \n",
        "    classifier_knn = KNeighborsClassifier(n_neighbors=k+1)\n",
        "    classifier_knn.fit(train_data, train_label)\n",
        "\n",
        "    test_pred_knn = classifier_knn.predict(test_data)\n",
        "    mcr_ , comparison_KNN = miss_classification_rate(test_pred_knn)\n",
        "    MCR_knn.append(mcr_)\n",
        "\n",
        "    number_miss_clsf_KNN.append(283 - np.count_nonzero(comparison_KNN))\n",
        "\n",
        "    print(\"-----\", k+1 , \" Neighbours -----\")\n",
        "    print()\n",
        "    print(\"Number of miss classification : \", number_miss_clsf_KNN[k])\n",
        "    print(\"MCR : \", mcr_)\n",
        "\n",
        "\n",
        "    # \"\"\"*** Weighted Cost KNN***\"\"\"\n",
        "\n",
        "    weighted_cost_KNN.append(weighted_cost(comparison_KNN))\n",
        "\n",
        "    print(\"Weighted Cost : \", weighted_cost_KNN[k])\n",
        "    \n",
        "    print()\n",
        "\n",
        "\n",
        "\n",
        "import matplotlib.pyplot as plt\n",
        "\n",
        "x = range(1,len(MCR_knn)+1)\n",
        "y = MCR_knn\n",
        "\n",
        "plt.plot(x, y, color='g')\n",
        "\n",
        "# naming the x axis\n",
        "plt.xlabel('k-NN')\n",
        "# naming the y axis\n",
        "plt.ylabel(\"MCR for kNN\")\n",
        " \n",
        "# giving a title to my graph\n",
        "plt.title('Miss Classification Rate plot')\n",
        " \n",
        "# function to show the plot\n",
        "plt.show()\n"
      ],
      "metadata": {
        "colab": {
          "base_uri": "https://localhost:8080/",
          "height": 1000
        },
        "id": "iZ0T1ro650ik",
        "outputId": "d2c06682-3e88-4cea-eef4-d5f1b5c37c64"
      },
      "execution_count": 210,
      "outputs": [
        {
          "output_type": "stream",
          "name": "stdout",
          "text": [
            "----- 1  Neighbours -----\n",
            "\n",
            "Number of miss classification :  5\n",
            "MCR :  0.017667844522968212\n",
            "Weighted Cost :  0.015037593984962405\n",
            "\n",
            "----- 2  Neighbours -----\n",
            "\n",
            "Number of miss classification :  8\n",
            "MCR :  0.028268551236749095\n",
            "Weighted Cost :  0.08704453441295545\n",
            "\n",
            "----- 3  Neighbours -----\n",
            "\n",
            "Number of miss classification :  4\n",
            "MCR :  0.014134275618374548\n",
            "Weighted Cost :  0.000578368999421631\n",
            "\n",
            "----- 4  Neighbours -----\n",
            "\n",
            "Number of miss classification :  5\n",
            "MCR :  0.017667844522968212\n",
            "Weighted Cost :  0.029352226720647773\n",
            "\n",
            "----- 5  Neighbours -----\n",
            "\n",
            "Number of miss classification :  5\n",
            "MCR :  0.017667844522968212\n",
            "Weighted Cost :  0.015037593984962405\n",
            "\n",
            "----- 6  Neighbours -----\n",
            "\n",
            "Number of miss classification :  3\n",
            "MCR :  0.010600706713780883\n",
            "Weighted Cost :  0.01474840948525159\n",
            "\n",
            "----- 7  Neighbours -----\n",
            "\n",
            "Number of miss classification :  4\n",
            "MCR :  0.014134275618374548\n",
            "Weighted Cost :  0.014893001735106997\n",
            "\n",
            "----- 8  Neighbours -----\n",
            "\n",
            "Number of miss classification :  3\n",
            "MCR :  0.010600706713780883\n",
            "Weighted Cost :  0.01474840948525159\n",
            "\n",
            "----- 9  Neighbours -----\n",
            "\n",
            "Number of miss classification :  3\n",
            "MCR :  0.010600706713780883\n",
            "Weighted Cost :  0.01474840948525159\n",
            "\n",
            "----- 10  Neighbours -----\n",
            "\n",
            "Number of miss classification :  3\n",
            "MCR :  0.010600706713780883\n",
            "Weighted Cost :  0.01474840948525159\n",
            "\n"
          ]
        },
        {
          "output_type": "display_data",
          "data": {
            "text/plain": [
              "<Figure size 432x288 with 1 Axes>"
            ],
            "image/png": "[encoded data removed]"
          },
          "metadata": {
            "needs_background": "light"
          }
        }
      ]
    },
    {
      "cell_type": "code",
      "source": [
        ""
      ],
      "metadata": {
        "id": "7qYqGLEpJHYQ"
      },
      "execution_count": 210,
      "outputs": []
    },
    {
      "cell_type": "markdown",
      "source": [
        "# **Question 1 (c) LDA**"
      ],
      "metadata": {
        "id": "m5vdClgiC3af"
      }
    },
    {
      "cell_type": "code",
      "source": [
        "from sklearn.discriminant_analysis import LinearDiscriminantAnalysis as LDA\n",
        "\n",
        "MCR_LDA = []\n",
        "\n",
        "lda = LDA()\n",
        "lda.fit(train_data, train_label)\n",
        "test_pred_LDA = lda.predict(test_data)\n",
        "\n",
        "MCR_LDA, comparison_LDA = miss_classification_rate(test_pred_LDA)\n",
        "\n",
        "print(\"Number of Miss Classification using LDA: \", 283 - np.count_nonzero(comparison_LDA))\n",
        "print()\n",
        "print(\"Miss classification rate for LDA : \", MCR_LDA)\n",
        "\n",
        "\n",
        "# \"\"\"*** Weighted Cost LDA***\"\"\"\n",
        "print()\n",
        "weighted_cost_LDA = weighted_cost(comparison_LDA)\n",
        "\n",
        "print(\"***** Weighted Cost of LDA *****\\n\")\n",
        "print(weighted_cost_LDA)\n",
        "\n"
      ],
      "metadata": {
        "colab": {
          "base_uri": "https://localhost:8080/"
        },
        "id": "KFmzESUDDrX2",
        "outputId": "aad25390-adc5-457f-94e1-660d6e7367fc"
      },
      "execution_count": 211,
      "outputs": [
        {
          "output_type": "stream",
          "name": "stdout",
          "text": [
            "Number of Miss Classification using LDA:  5\n",
            "\n",
            "Miss classification rate for LDA :  0.017667844522968212\n",
            "\n",
            "***** Weighted Cost of LDA *****\n",
            "\n",
            "0.0579814921920185\n"
          ]
        }
      ]
    },
    {
      "cell_type": "code",
      "source": [
        ""
      ],
      "metadata": {
        "id": "6g0OTGkVH6yb"
      },
      "execution_count": 211,
      "outputs": []
    },
    {
      "cell_type": "markdown",
      "source": [
        "# **Question 1 (d) SVM**"
      ],
      "metadata": {
        "id": "SrDC-6D9ItGY"
      }
    },
    {
      "cell_type": "markdown",
      "source": [
        "**SVM 'linear' kernel**"
      ],
      "metadata": {
        "id": "yHwr4zCYAXqL"
      }
    },
    {
      "cell_type": "code",
      "source": [
        "from sklearn.svm import SVC\n",
        "\n",
        "classifier_svm_lin = SVC(kernel='linear', probability=True)\n",
        "\n",
        "classifier_svm_lin.fit(train_data, train_label)\n",
        "\n",
        "test_pred_SVM_lin = classifier_svm_lin.predict(test_data)\n",
        "\n",
        "MCR_SVM_lin, comparison_SVM_lin = miss_classification_rate(test_pred_SVM_lin)\n",
        "\n",
        "print(\"Number of Miss Classification using SVM (linear kernel): \", 283 - np.count_nonzero(comparison_SVM_lin))\n",
        "print()\n",
        "print(\"Miss classification rate for SVM (linear kernel) : \", MCR_SVM_lin)\n",
        "\n",
        "\n",
        "# Calculating RMS\n",
        "\n",
        "test_pred_prob_SVM_lin = classifier_svm_lin.predict_proba(test_data)\n",
        "correct_classified_prob_SVM_lin = test_pred_prob_SVM_lin[:,1][comparison_SVM_lin]\n",
        "print()\n",
        "RMS_SVM_lin = RMS_func(correct_classified_prob_SVM_lin)\n",
        "print(\"RMS for SVM (linear kernel) : \", RMS_SVM_lin)\n",
        "\n",
        "\n",
        "# \"\"\"*** Weighted Cost SVM Linear Kernel***\"\"\"\n",
        "print()\n",
        "weighted_cost_SVM_lin = weighted_cost(comparison_SVM_lin)\n",
        "\n",
        "print(\"***** Weighted Cost of SVM Linear Kernel *****\\n\")\n",
        "print(weighted_cost_SVM_lin)"
      ],
      "metadata": {
        "id": "dTlymJyMJFwo",
        "colab": {
          "base_uri": "https://localhost:8080/"
        },
        "outputId": "7a2e1e87-cba1-4ffe-fa67-781b4e9252b0"
      },
      "execution_count": 212,
      "outputs": [
        {
          "output_type": "stream",
          "name": "stdout",
          "text": [
            "Number of Miss Classification using SVM (linear kernel):  4\n",
            "\n",
            "Miss classification rate for SVM (linear kernel) :  0.014134275618374548\n",
            "\n",
            "RMS for SVM (linear kernel) :  0.4489134080884756\n",
            "\n",
            "***** Weighted Cost of SVM Linear Kernel *****\n",
            "\n",
            "0.014893001735106997\n"
          ]
        }
      ]
    },
    {
      "cell_type": "code",
      "source": [
        ""
      ],
      "metadata": {
        "id": "DLvvzaA7Phyf"
      },
      "execution_count": 212,
      "outputs": []
    },
    {
      "cell_type": "markdown",
      "source": [
        "**SVM 'poly' kernel**"
      ],
      "metadata": {
        "id": "PXAygTZZAB32"
      }
    },
    {
      "cell_type": "code",
      "source": [
        "\n",
        "classifier_SVM_poly = []\n",
        "test_pred_SVM_poly = []\n",
        "weighted_cost_SVM_poly = []\n",
        "MCR_SVM_poly = []\n",
        "RMS_SVM_poly = []\n",
        "\n",
        "classifier_SVM_poly.append(None)\n",
        "classifier_SVM_poly.append(None)\n",
        "\n",
        "test_pred_SVM_poly.append(None)\n",
        "test_pred_SVM_poly.append(None)\n",
        "\n",
        "for degree_ in range (2,6):\n",
        "\n",
        "  classifier_SVM_poly.append(SVC(kernel='poly', degree=degree_, probability=True))\n",
        "  classifier_SVM_poly[degree_].fit(train_data, train_label)\n",
        "  test_pred_SVM_poly.append(classifier_SVM_poly[degree_].predict(test_data))\n",
        "  \n",
        "  MCR_SVM_poly_, comparison_SVM_poly = miss_classification_rate(test_pred_SVM_lin)\n",
        "  MCR_SVM_poly.append(MCR_SVM_poly_)\n",
        "  \n",
        "  \n",
        "  print(\"-----Poly Kernel with Degree:\", degree_, \"-----\")\n",
        "  print()\n",
        "  print(\"Number of Miss Classification : \"  ,  283 - np.count_nonzero(comparison_SVM_poly))\n",
        "  print(\"Miss classification rate (MCR): \", MCR_SVM_poly)\n",
        "\n",
        "  test_pred_prob_SVM_poly = classifier_SVM_poly[degree_].predict_proba(test_data)\n",
        "  correct_classified_prob_SVM_poly = test_pred_prob_SVM_poly[:,1][comparison_SVM_poly]\n",
        "  RMS_SVM_poly.append(RMS_func(correct_classified_prob_SVM_poly))\n",
        "  print(\"RMS for SVM : \", RMS_SVM_poly[degree_-2])\n",
        "\n",
        "  # \"\"\"*** Weighted Cost SVM Poly Kernel***\"\"\"\n",
        "  print()\n",
        "\n",
        "  weighted_cost_SVM_poly.append(weighted_cost(comparison_SVM_poly))\n",
        "\n",
        "  print(\"***** Weighted Cost of SVM Poly Kernel *****\\n\")\n",
        "  print(weighted_cost_SVM_poly[degree_-2])\n",
        "  \n",
        "  print()\n"
      ],
      "metadata": {
        "colab": {
          "base_uri": "https://localhost:8080/"
        },
        "id": "ybpe30cG4Xxg",
        "outputId": "d5476d4d-46c5-45a2-cc53-149a4d3f1254"
      },
      "execution_count": 213,
      "outputs": [
        {
          "output_type": "stream",
          "name": "stdout",
          "text": [
            "-----Poly Kernel with Degree: 2 -----\n",
            "\n",
            "Number of Miss Classification :  4\n",
            "Miss classification rate (MCR):  [0.014134275618374548]\n",
            "RMS for SVM :  0.46445571191638607\n",
            "\n",
            "***** Weighted Cost of SVM Poly Kernel *****\n",
            "\n",
            "0.014893001735106997\n",
            "\n",
            "-----Poly Kernel with Degree: 3 -----\n",
            "\n",
            "Number of Miss Classification :  4\n",
            "Miss classification rate (MCR):  [0.014134275618374548, 0.014134275618374548]\n",
            "RMS for SVM :  0.44386200387870584\n",
            "\n",
            "***** Weighted Cost of SVM Poly Kernel *****\n",
            "\n",
            "0.014893001735106997\n",
            "\n",
            "-----Poly Kernel with Degree: 4 -----\n",
            "\n",
            "Number of Miss Classification :  4\n",
            "Miss classification rate (MCR):  [0.014134275618374548, 0.014134275618374548, 0.014134275618374548]\n",
            "RMS for SVM :  0.40184476704012206\n",
            "\n",
            "***** Weighted Cost of SVM Poly Kernel *****\n",
            "\n",
            "0.014893001735106997\n",
            "\n",
            "-----Poly Kernel with Degree: 5 -----\n",
            "\n",
            "Number of Miss Classification :  4\n",
            "Miss classification rate (MCR):  [0.014134275618374548, 0.014134275618374548, 0.014134275618374548, 0.014134275618374548]\n",
            "RMS for SVM :  0.3674036487154804\n",
            "\n",
            "***** Weighted Cost of SVM Poly Kernel *****\n",
            "\n",
            "0.014893001735106997\n",
            "\n"
          ]
        }
      ]
    },
    {
      "cell_type": "markdown",
      "source": [
        "**SVM with 'rbf' kernel**"
      ],
      "metadata": {
        "id": "8Pc9rri7_9ea"
      }
    },
    {
      "cell_type": "code",
      "source": [
        "\n",
        "classifier_svm_rbf = SVC(kernel='rbf', probability=True)\n",
        "\n",
        "classifier_svm_rbf.fit(train_data, train_label)\n",
        "\n",
        "test_pred_SVM_rbf = classifier_svm_rbf.predict(test_data)\n",
        "\n",
        "MCR_SVM_rbf, comparison_SVM_rbf = miss_classification_rate(test_pred_SVM_rbf)\n",
        "\n",
        "print(\"Number of Miss Classification of SVM (rbf kernel): \", 283 - np.count_nonzero(comparison_SVM_rbf))\n",
        "print()\n",
        "print(\"Miss classification rate (MCR) (rbf kernel) : \", MCR_SVM_rbf)\n",
        "\n",
        "# Calculating RMS\n",
        "\n",
        "test_pred_prob_SVM_rbf = classifier_svm_rbf.predict_proba(test_data)\n",
        "correct_classified_prob_SVM_rbf = test_pred_prob_SVM_rbf[:,1][comparison_SVM_rbf]\n",
        "print()\n",
        "RMS_SVM_rbf = RMS_func(correct_classified_prob_SVM_rbf)\n",
        "print(\"RMS for SVM (rbf kernel) : \", RMS_SVM_rbf)\n",
        "\n",
        "# \"\"\"*** Weighted Cost SVM RBF Kernel***\"\"\"\n",
        "print()\n",
        "weighted_cost_SVM_rbf = weighted_cost(comparison_SVM_rbf)\n",
        "\n",
        "print(\"***** Weighted Cost of SVM RBF Kernel *****\\n\")\n",
        "print(weighted_cost_SVM_rbf)"
      ],
      "metadata": {
        "colab": {
          "base_uri": "https://localhost:8080/"
        },
        "id": "KSvfpAM24CPJ",
        "outputId": "9a84cfff-5771-4b51-8d21-612cc85f9310"
      },
      "execution_count": 214,
      "outputs": [
        {
          "output_type": "stream",
          "name": "stdout",
          "text": [
            "Number of Miss Classification of SVM (rbf kernel):  5\n",
            "\n",
            "Miss classification rate (MCR) (rbf kernel) :  0.017667844522968212\n",
            "\n",
            "RMS for SVM (rbf kernel) :  0.4712341647261002\n",
            "\n",
            "***** Weighted Cost of SVM RBF Kernel *****\n",
            "\n",
            "0.015037593984962405\n"
          ]
        }
      ]
    },
    {
      "cell_type": "markdown",
      "source": [
        "**SVM with 'sigmoid' kernel**"
      ],
      "metadata": {
        "id": "Bz9bKJ9eBX59"
      }
    },
    {
      "cell_type": "code",
      "source": [
        "\n",
        "classifier_svm_sig = SVC(kernel='sigmoid', probability=True)\n",
        "\n",
        "classifier_svm_sig.fit(train_data, train_label)\n",
        "\n",
        "test_pred_SVM_sig = classifier_svm_rbf.predict(test_data)\n",
        "\n",
        "MCR_SVM_sig, comparison_SVM_sig = miss_classification_rate(test_pred_SVM_sig)\n",
        "\n",
        "print(\"Number of Miss Classification of SVM (sigmoid kernel): \", 283 - np.count_nonzero(comparison_SVM_sig))\n",
        "print()\n",
        "print(\"Miss classification rate (MCR) (sigmoid kernel) : \", MCR_SVM_sig)\n",
        "\n",
        "# Calculating RMS\n",
        "\n",
        "test_pred_prob_SVM_sig = classifier_svm_rbf.predict_proba(test_data)\n",
        "correct_classified_prob_SVM_sig = test_pred_prob_SVM_sig[:,1][comparison_SVM_sig]\n",
        "print()\n",
        "RMS_SVM_sig = RMS_func(correct_classified_prob_SVM_sig)\n",
        "print(\"RMS for SVM (sigmoid kernel) : \", RMS_SVM_sig)\n",
        "\n",
        "# \"\"\"*** Weighted Cost SVM Sigmoid Kernel***\"\"\"\n",
        "print()\n",
        "weighted_cost_SVM_sig = weighted_cost(comparison_SVM_sig)\n",
        "\n",
        "print(\"***** Weighted Cost of SVM Sigmoid Kernel *****\\n\")\n",
        "print(weighted_cost_SVM_sig)"
      ],
      "metadata": {
        "colab": {
          "base_uri": "https://localhost:8080/"
        },
        "id": "g5KmOna7A-GW",
        "outputId": "92071420-6a5a-49c7-f9db-1bdc28dc0b65"
      },
      "execution_count": 215,
      "outputs": [
        {
          "output_type": "stream",
          "name": "stdout",
          "text": [
            "Number of Miss Classification of SVM (sigmoid kernel):  5\n",
            "\n",
            "Miss classification rate (MCR) (sigmoid kernel) :  0.017667844522968212\n",
            "\n",
            "RMS for SVM (sigmoid kernel) :  0.4712341647261002\n",
            "\n",
            "***** Weighted Cost of SVM Sigmoid Kernel *****\n",
            "\n",
            "0.015037593984962405\n"
          ]
        }
      ]
    },
    {
      "cell_type": "markdown",
      "source": [
        "# **RMS Comparison between LR and SVM**"
      ],
      "metadata": {
        "id": "_XPSyjCzefGH"
      }
    },
    {
      "cell_type": "markdown",
      "source": [
        "Comparing the RMS margin of *part a* and *part d* we can see that the RMS margin of the SVM 'rbf' kernel is just a bit better than that of the others.\n",
        "\n",
        "Here we are calculating RMS margin which measures how confident is my classifier about the decision that it has made. So the higher the better.\n"
      ],
      "metadata": {
        "id": "RIEDZOERi6E8"
      }
    },
    {
      "cell_type": "code",
      "source": [
        "print(\"***RMS of Logistic Regression***\")\n",
        "print(RMS_LR)\n",
        "print()\n",
        "\n",
        "print(\"***RMS of SVM Linear Kernel***\")\n",
        "print(RMS_SVM_lin)\n",
        "print()\n",
        "\n",
        "print(\"***RMS of SVM Poly Kernel***\")\n",
        "print(RMS_SVM_poly)\n",
        "print()\n",
        "\n",
        "print(\"***RMS of SVM RBF Kernel***\")\n",
        "print(RMS_SVM_rbf)\n",
        "print()\n",
        "\n",
        "\n",
        "print(\"***RMS of SVM Sigmoid Kernel***\")\n",
        "print(RMS_SVM_sig)\n",
        "print()\n"
      ],
      "metadata": {
        "colab": {
          "base_uri": "https://localhost:8080/"
        },
        "id": "f-NgXV2JZKcl",
        "outputId": "5d672707-0889-483e-d0bc-7efd35a64015"
      },
      "execution_count": 216,
      "outputs": [
        {
          "output_type": "stream",
          "name": "stdout",
          "text": [
            "***RMS of Logistic Regression***\n",
            "0.46687549965023\n",
            "\n",
            "***RMS of SVM Linear Kernel***\n",
            "0.4489134080884756\n",
            "\n",
            "***RMS of SVM Poly Kernel***\n",
            "[0.46445571191638607, 0.44386200387870584, 0.40184476704012206, 0.3674036487154804]\n",
            "\n",
            "***RMS of SVM RBF Kernel***\n",
            "0.4712341647261002\n",
            "\n",
            "***RMS of SVM Sigmoid Kernel***\n",
            "0.4712341647261002\n",
            "\n"
          ]
        }
      ]
    },
    {
      "cell_type": "markdown",
      "source": [
        "# **Question 1 (e) Decision Tree**"
      ],
      "metadata": {
        "id": "g5atfnJVYmov"
      }
    },
    {
      "cell_type": "code",
      "source": [
        "import matplotlib.pyplot as plt\n",
        "from sklearn import tree\n",
        "from sklearn.datasets import load_iris\n",
        "import graphviz \n",
        "\n",
        "decision_tree = []\n",
        "MCR_DT = []\n",
        "weighted_cost_DT = []\n",
        "\n",
        "decision_tree.append(None)\n",
        "decision_tree.append(None)\n",
        "decision_tree.append(None)\n",
        "\n",
        "\n",
        "for max_depth_ in range(3,11):\n",
        "  decision_tree_ = tree.DecisionTreeClassifier(criterion='entropy', max_depth=max_depth_)\n",
        "  decision_tree_.fit(train_data, train_label)\n",
        "  decision_tree.append(decision_tree_)\n",
        "\n",
        "  test_pred_DT = decision_tree_.predict(test_data)\n",
        "\n",
        "  mcr_DT , comparison_DT = miss_classification_rate(test_pred_DT)\n",
        "  MCR_DT.append(mcr_DT)\n",
        "\n",
        "  print(\"-----DT with max depth\", max_depth_, \"-----\")\n",
        "  print()\n",
        "  print(\"Number of Miss Classification : \"  ,  283 - np.count_nonzero(comparison_DT))\n",
        "  print(\"Miss classification rate (MCR): \", mcr_DT)\n",
        "  print()\n",
        "\n",
        "  # \"\"\"*** Weighted Cost DT***\"\"\"\n",
        "  weighted_cost_DT.append(weighted_cost(comparison_LDA)) \n",
        "\n",
        "  print(\"***** Weighted Cost of DT *****\\n\")\n",
        "  print(weighted_cost_DT[max_depth_-3])\n",
        "  print()\n",
        "\n",
        "\n",
        "x = range(3,11)\n",
        "y = MCR_DT\n",
        "\n",
        "plt.plot(x, y, color='g')\n",
        "\n",
        "# naming the x axis\n",
        "plt.xlabel('Max Depth')\n",
        "# naming the y axis\n",
        "plt.ylabel(\"MCR for DT\")\n",
        " \n",
        "# giving a title to my graph\n",
        "plt.title('Miss Classification Rate plot')\n",
        " \n",
        "# function to show the plot\n",
        "plt.show()\n"
      ],
      "metadata": {
        "id": "epQfLF5mDd9K",
        "colab": {
          "base_uri": "https://localhost:8080/",
          "height": 1000
        },
        "outputId": "7c24fd5a-94a0-4f77-f900-cddc143fd7a9"
      },
      "execution_count": 217,
      "outputs": [
        {
          "output_type": "stream",
          "name": "stdout",
          "text": [
            "-----DT with max depth 3 -----\n",
            "\n",
            "Number of Miss Classification :  10\n",
            "Miss classification rate (MCR):  0.035335689045936425\n",
            "\n",
            "***** Weighted Cost of DT *****\n",
            "\n",
            "0.0579814921920185\n",
            "\n",
            "-----DT with max depth 4 -----\n",
            "\n",
            "Number of Miss Classification :  7\n",
            "Miss classification rate (MCR):  0.02473498233215543\n",
            "\n",
            "***** Weighted Cost of DT *****\n",
            "\n",
            "0.0579814921920185\n",
            "\n",
            "-----DT with max depth 5 -----\n",
            "\n",
            "Number of Miss Classification :  8\n",
            "Miss classification rate (MCR):  0.028268551236749095\n",
            "\n",
            "***** Weighted Cost of DT *****\n",
            "\n",
            "0.0579814921920185\n",
            "\n",
            "-----DT with max depth 6 -----\n",
            "\n",
            "Number of Miss Classification :  9\n",
            "Miss classification rate (MCR):  0.03180212014134276\n",
            "\n",
            "***** Weighted Cost of DT *****\n",
            "\n",
            "0.0579814921920185\n",
            "\n",
            "-----DT with max depth 7 -----\n",
            "\n",
            "Number of Miss Classification :  12\n",
            "Miss classification rate (MCR):  0.04240282685512364\n",
            "\n",
            "***** Weighted Cost of DT *****\n",
            "\n",
            "0.0579814921920185\n",
            "\n",
            "-----DT with max depth 8 -----\n",
            "\n",
            "Number of Miss Classification :  12\n",
            "Miss classification rate (MCR):  0.04240282685512364\n",
            "\n",
            "***** Weighted Cost of DT *****\n",
            "\n",
            "0.0579814921920185\n",
            "\n",
            "-----DT with max depth 9 -----\n",
            "\n",
            "Number of Miss Classification :  10\n",
            "Miss classification rate (MCR):  0.035335689045936425\n",
            "\n",
            "***** Weighted Cost of DT *****\n",
            "\n",
            "0.0579814921920185\n",
            "\n",
            "-----DT with max depth 10 -----\n",
            "\n",
            "Number of Miss Classification :  14\n",
            "Miss classification rate (MCR):  0.04946996466431097\n",
            "\n",
            "***** Weighted Cost of DT *****\n",
            "\n",
            "0.0579814921920185\n",
            "\n"
          ]
        },
        {
          "output_type": "display_data",
          "data": {
            "text/plain": [
              "<Figure size 432x288 with 1 Axes>"
            ],
            "image/png": "[encoded data removed]"
          },
          "metadata": {
            "needs_background": "light"
          }
        }
      ]
    },
    {
      "cell_type": "code",
      "source": [
        "graph_data = tree.export_graphviz(decision_tree[5], out_file=None) \n",
        "graph = graphviz.Source(graph_data) \n",
        "graph.render(\"Breast Cancer\")\n",
        "graph"
      ],
      "metadata": {
        "colab": {
          "base_uri": "https://localhost:8080/",
          "height": 816
        },
        "id": "AUeNNxR0gxO6",
        "outputId": "1039e5ed-563a-44c9-e3fb-b73540362004"
      },
      "execution_count": 218,
      "outputs": [
        {
          "output_type": "execute_result",
          "data": {
            "text/plain": [
              "<graphviz.files.Source at 0x7f8c81e41b50>"
            ],
            "image/svg+xml": "<?xml version=\"1.0\" encoding=\"UTF-8\" standalone=\"no\"?>\n<!DOCTYPE svg PUBLIC \"-//W3C//DTD SVG 1.1//EN\"\n \"http://www.w3.org/Graphics/SVG/1.1/DTD/svg11.dtd\">\n<!-- Generated by graphviz version 2.40.1 (20161225.0304)\n -->\n<!-- Title: Tree Pages: 1 -->\n<svg width=\"1144pt\" height=\"581pt\"\n viewBox=\"0.00 0.00 1143.50 581.00\" xmlns=\"http://www.w3.org/2000/svg\" xmlns:xlink=\"http://www.w3.org/1999/xlink\">\n<g id=\"graph0\" class=\"graph\" transform=\"scale(1 1) rotate(0) translate(4 577)\">\n<title>Tree</title>\n<polygon fill=\"#ffffff\" stroke=\"transparent\" points=\"-4,4 -4,-577 1139.5,-577 1139.5,4 -4,4\"/>\n<!-- 0 -->\n<g id=\"node1\" class=\"node\">\n<title>0</title>\n<polygon fill=\"none\" stroke=\"#000000\" points=\"556,-573 424,-573 424,-505 556,-505 556,-573\"/>\n<text text-anchor=\"middle\" x=\"490\" y=\"-557.8\" font-family=\"Helvetica,sans-Serif\" font-size=\"14.00\" fill=\"#000000\">X[2] &lt;= 2.5</text>\n<text text-anchor=\"middle\" x=\"490\" y=\"-542.8\" font-family=\"Helvetica,sans-Serif\" font-size=\"14.00\" fill=\"#000000\">entropy = 0.986</text>\n<text text-anchor=\"middle\" x=\"490\" y=\"-527.8\" font-family=\"Helvetica,sans-Serif\" font-size=\"14.00\" fill=\"#000000\">samples = 400</text>\n<text text-anchor=\"middle\" x=\"490\" y=\"-512.8\" font-family=\"Helvetica,sans-Serif\" font-size=\"14.00\" fill=\"#000000\">value = [228, 172]</text>\n</g>\n<!-- 1 -->\n<g id=\"node2\" class=\"node\">\n<title>1</title>\n<polygon fill=\"none\" stroke=\"#000000\" points=\"431,-469 315,-469 315,-401 431,-401 431,-469\"/>\n<text text-anchor=\"middle\" x=\"373\" y=\"-453.8\" font-family=\"Helvetica,sans-Serif\" font-size=\"14.00\" fill=\"#000000\">X[0] &lt;= 5.5</text>\n<text text-anchor=\"middle\" x=\"373\" y=\"-438.8\" font-family=\"Helvetica,sans-Serif\" font-size=\"14.00\" fill=\"#000000\">entropy = 0.19</text>\n<text text-anchor=\"middle\" x=\"373\" y=\"-423.8\" font-family=\"Helvetica,sans-Serif\" font-size=\"14.00\" fill=\"#000000\">samples = 206</text>\n<text text-anchor=\"middle\" x=\"373\" y=\"-408.8\" font-family=\"Helvetica,sans-Serif\" font-size=\"14.00\" fill=\"#000000\">value = [200, 6]</text>\n</g>\n<!-- 0&#45;&gt;1 -->\n<g id=\"edge1\" class=\"edge\">\n<title>0&#45;&gt;1</title>\n<path fill=\"none\" stroke=\"#000000\" d=\"M451.6898,-504.9465C441.2859,-495.6986 429.911,-485.5876 419.1243,-475.9994\"/>\n<polygon fill=\"#000000\" stroke=\"#000000\" points=\"421.1956,-473.1577 411.3962,-469.13 416.5451,-478.3896 421.1956,-473.1577\"/>\n<text text-anchor=\"middle\" x=\"412.8643\" y=\"-490.3869\" font-family=\"Helvetica,sans-Serif\" font-size=\"14.00\" fill=\"#000000\">True</text>\n</g>\n<!-- 10 -->\n<g id=\"node11\" class=\"node\">\n<title>10</title>\n<polygon fill=\"none\" stroke=\"#000000\" points=\"685,-469 561,-469 561,-401 685,-401 685,-469\"/>\n<text text-anchor=\"middle\" x=\"623\" y=\"-453.8\" font-family=\"Helvetica,sans-Serif\" font-size=\"14.00\" fill=\"#000000\">X[5] &lt;= 2.5</text>\n<text text-anchor=\"middle\" x=\"623\" y=\"-438.8\" font-family=\"Helvetica,sans-Serif\" font-size=\"14.00\" fill=\"#000000\">entropy = 0.595</text>\n<text text-anchor=\"middle\" x=\"623\" y=\"-423.8\" font-family=\"Helvetica,sans-Serif\" font-size=\"14.00\" fill=\"#000000\">samples = 194</text>\n<text text-anchor=\"middle\" x=\"623\" y=\"-408.8\" font-family=\"Helvetica,sans-Serif\" font-size=\"14.00\" fill=\"#000000\">value = [28, 166]</text>\n</g>\n<!-- 0&#45;&gt;10 -->\n<g id=\"edge10\" class=\"edge\">\n<title>0&#45;&gt;10</title>\n<path fill=\"none\" stroke=\"#000000\" d=\"M533.5492,-504.9465C545.6054,-495.519 558.8089,-485.1946 571.2816,-475.4415\"/>\n<polygon fill=\"#000000\" stroke=\"#000000\" points=\"573.6314,-478.0471 579.353,-469.13 569.3194,-472.5328 573.6314,-478.0471\"/>\n<text text-anchor=\"middle\" x=\"576.3166\" y=\"-490.2449\" font-family=\"Helvetica,sans-Serif\" font-size=\"14.00\" fill=\"#000000\">False</text>\n</g>\n<!-- 2 -->\n<g id=\"node3\" class=\"node\">\n<title>2</title>\n<polygon fill=\"none\" stroke=\"#000000\" points=\"248,-365 130,-365 130,-297 248,-297 248,-365\"/>\n<text text-anchor=\"middle\" x=\"189\" y=\"-349.8\" font-family=\"Helvetica,sans-Serif\" font-size=\"14.00\" fill=\"#000000\">X[5] &lt;= 4.5</text>\n<text text-anchor=\"middle\" x=\"189\" y=\"-334.8\" font-family=\"Helvetica,sans-Serif\" font-size=\"14.00\" fill=\"#000000\">entropy = 0.046</text>\n<text text-anchor=\"middle\" x=\"189\" y=\"-319.8\" font-family=\"Helvetica,sans-Serif\" font-size=\"14.00\" fill=\"#000000\">samples = 197</text>\n<text text-anchor=\"middle\" x=\"189\" y=\"-304.8\" font-family=\"Helvetica,sans-Serif\" font-size=\"14.00\" fill=\"#000000\">value = [196, 1]</text>\n</g>\n<!-- 1&#45;&gt;2 -->\n<g id=\"edge2\" class=\"edge\">\n<title>1&#45;&gt;2</title>\n<path fill=\"none\" stroke=\"#000000\" d=\"M314.7813,-402.0938C296.4212,-391.7164 275.9768,-380.1608 256.9976,-369.4335\"/>\n<polygon fill=\"#000000\" stroke=\"#000000\" points=\"258.5326,-366.2807 248.1047,-364.407 255.0882,-372.3746 258.5326,-366.2807\"/>\n</g>\n<!-- 7 -->\n<g id=\"node8\" class=\"node\">\n<title>7</title>\n<polygon fill=\"none\" stroke=\"#000000\" points=\"432,-365 314,-365 314,-297 432,-297 432,-365\"/>\n<text text-anchor=\"middle\" x=\"373\" y=\"-349.8\" font-family=\"Helvetica,sans-Serif\" font-size=\"14.00\" fill=\"#000000\">X[5] &lt;= 1.5</text>\n<text text-anchor=\"middle\" x=\"373\" y=\"-334.8\" font-family=\"Helvetica,sans-Serif\" font-size=\"14.00\" fill=\"#000000\">entropy = 0.991</text>\n<text text-anchor=\"middle\" x=\"373\" y=\"-319.8\" font-family=\"Helvetica,sans-Serif\" font-size=\"14.00\" fill=\"#000000\">samples = 9</text>\n<text text-anchor=\"middle\" x=\"373\" y=\"-304.8\" font-family=\"Helvetica,sans-Serif\" font-size=\"14.00\" fill=\"#000000\">value = [4, 5]</text>\n</g>\n<!-- 1&#45;&gt;7 -->\n<g id=\"edge7\" class=\"edge\">\n<title>1&#45;&gt;7</title>\n<path fill=\"none\" stroke=\"#000000\" d=\"M373,-400.9465C373,-392.776 373,-383.9318 373,-375.3697\"/>\n<polygon fill=\"#000000\" stroke=\"#000000\" points=\"376.5001,-375.13 373,-365.13 369.5001,-375.13 376.5001,-375.13\"/>\n</g>\n<!-- 3 -->\n<g id=\"node4\" class=\"node\">\n<title>3</title>\n<polygon fill=\"none\" stroke=\"#000000\" points=\"116,-253.5 0,-253.5 0,-200.5 116,-200.5 116,-253.5\"/>\n<text text-anchor=\"middle\" x=\"58\" y=\"-238.3\" font-family=\"Helvetica,sans-Serif\" font-size=\"14.00\" fill=\"#000000\">entropy = 0.0</text>\n<text text-anchor=\"middle\" x=\"58\" y=\"-223.3\" font-family=\"Helvetica,sans-Serif\" font-size=\"14.00\" fill=\"#000000\">samples = 191</text>\n<text text-anchor=\"middle\" x=\"58\" y=\"-208.3\" font-family=\"Helvetica,sans-Serif\" font-size=\"14.00\" fill=\"#000000\">value = [191, 0]</text>\n</g>\n<!-- 2&#45;&gt;3 -->\n<g id=\"edge3\" class=\"edge\">\n<title>2&#45;&gt;3</title>\n<path fill=\"none\" stroke=\"#000000\" d=\"M146.1057,-296.9465C131.1212,-285.0504 114.3376,-271.726 99.4712,-259.9237\"/>\n<polygon fill=\"#000000\" stroke=\"#000000\" points=\"101.4411,-257.0187 91.4329,-253.5422 97.0887,-262.5011 101.4411,-257.0187\"/>\n</g>\n<!-- 4 -->\n<g id=\"node5\" class=\"node\">\n<title>4</title>\n<polygon fill=\"none\" stroke=\"#000000\" points=\"244,-261 134,-261 134,-193 244,-193 244,-261\"/>\n<text text-anchor=\"middle\" x=\"189\" y=\"-245.8\" font-family=\"Helvetica,sans-Serif\" font-size=\"14.00\" fill=\"#000000\">X[0] &lt;= 3.5</text>\n<text text-anchor=\"middle\" x=\"189\" y=\"-230.8\" font-family=\"Helvetica,sans-Serif\" font-size=\"14.00\" fill=\"#000000\">entropy = 0.65</text>\n<text text-anchor=\"middle\" x=\"189\" y=\"-215.8\" font-family=\"Helvetica,sans-Serif\" font-size=\"14.00\" fill=\"#000000\">samples = 6</text>\n<text text-anchor=\"middle\" x=\"189\" y=\"-200.8\" font-family=\"Helvetica,sans-Serif\" font-size=\"14.00\" fill=\"#000000\">value = [5, 1]</text>\n</g>\n<!-- 2&#45;&gt;4 -->\n<g id=\"edge4\" class=\"edge\">\n<title>2&#45;&gt;4</title>\n<path fill=\"none\" stroke=\"#000000\" d=\"M189,-296.9465C189,-288.776 189,-279.9318 189,-271.3697\"/>\n<polygon fill=\"#000000\" stroke=\"#000000\" points=\"192.5001,-271.13 189,-261.13 185.5001,-271.13 192.5001,-271.13\"/>\n</g>\n<!-- 5 -->\n<g id=\"node6\" class=\"node\">\n<title>5</title>\n<polygon fill=\"none\" stroke=\"#000000\" points=\"180.5,-149.5 79.5,-149.5 79.5,-96.5 180.5,-96.5 180.5,-149.5\"/>\n<text text-anchor=\"middle\" x=\"130\" y=\"-134.3\" font-family=\"Helvetica,sans-Serif\" font-size=\"14.00\" fill=\"#000000\">entropy = 0.0</text>\n<text text-anchor=\"middle\" x=\"130\" y=\"-119.3\" font-family=\"Helvetica,sans-Serif\" font-size=\"14.00\" fill=\"#000000\">samples = 5</text>\n<text text-anchor=\"middle\" x=\"130\" y=\"-104.3\" font-family=\"Helvetica,sans-Serif\" font-size=\"14.00\" fill=\"#000000\">value = [5, 0]</text>\n</g>\n<!-- 4&#45;&gt;5 -->\n<g id=\"edge5\" class=\"edge\">\n<title>4&#45;&gt;5</title>\n<path fill=\"none\" stroke=\"#000000\" d=\"M169.6812,-192.9465C163.4324,-181.9316 156.4888,-169.6922 150.1793,-158.5703\"/>\n<polygon fill=\"#000000\" stroke=\"#000000\" points=\"153.0362,-156.513 145.0576,-149.5422 146.9477,-159.967 153.0362,-156.513\"/>\n</g>\n<!-- 6 -->\n<g id=\"node7\" class=\"node\">\n<title>6</title>\n<polygon fill=\"none\" stroke=\"#000000\" points=\"299.5,-149.5 198.5,-149.5 198.5,-96.5 299.5,-96.5 299.5,-149.5\"/>\n<text text-anchor=\"middle\" x=\"249\" y=\"-134.3\" font-family=\"Helvetica,sans-Serif\" font-size=\"14.00\" fill=\"#000000\">entropy = 0.0</text>\n<text text-anchor=\"middle\" x=\"249\" y=\"-119.3\" font-family=\"Helvetica,sans-Serif\" font-size=\"14.00\" fill=\"#000000\">samples = 1</text>\n<text text-anchor=\"middle\" x=\"249\" y=\"-104.3\" font-family=\"Helvetica,sans-Serif\" font-size=\"14.00\" fill=\"#000000\">value = [0, 1]</text>\n</g>\n<!-- 4&#45;&gt;6 -->\n<g id=\"edge6\" class=\"edge\">\n<title>4&#45;&gt;6</title>\n<path fill=\"none\" stroke=\"#000000\" d=\"M208.6462,-192.9465C215.0645,-181.8215 222.2035,-169.4473 228.671,-158.237\"/>\n<polygon fill=\"#000000\" stroke=\"#000000\" points=\"231.7216,-159.9531 233.6872,-149.5422 225.6583,-156.455 231.7216,-159.9531\"/>\n</g>\n<!-- 8 -->\n<g id=\"node9\" class=\"node\">\n<title>8</title>\n<polygon fill=\"none\" stroke=\"#000000\" points=\"363.5,-253.5 262.5,-253.5 262.5,-200.5 363.5,-200.5 363.5,-253.5\"/>\n<text text-anchor=\"middle\" x=\"313\" y=\"-238.3\" font-family=\"Helvetica,sans-Serif\" font-size=\"14.00\" fill=\"#000000\">entropy = 0.0</text>\n<text text-anchor=\"middle\" x=\"313\" y=\"-223.3\" font-family=\"Helvetica,sans-Serif\" font-size=\"14.00\" fill=\"#000000\">samples = 4</text>\n<text text-anchor=\"middle\" x=\"313\" y=\"-208.3\" font-family=\"Helvetica,sans-Serif\" font-size=\"14.00\" fill=\"#000000\">value = [4, 0]</text>\n</g>\n<!-- 7&#45;&gt;8 -->\n<g id=\"edge8\" class=\"edge\">\n<title>7&#45;&gt;8</title>\n<path fill=\"none\" stroke=\"#000000\" d=\"M353.3538,-296.9465C346.9355,-285.8215 339.7965,-273.4473 333.329,-262.237\"/>\n<polygon fill=\"#000000\" stroke=\"#000000\" points=\"336.3417,-260.455 328.3128,-253.5422 330.2784,-263.9531 336.3417,-260.455\"/>\n</g>\n<!-- 9 -->\n<g id=\"node10\" class=\"node\">\n<title>9</title>\n<polygon fill=\"none\" stroke=\"#000000\" points=\"482.5,-253.5 381.5,-253.5 381.5,-200.5 482.5,-200.5 482.5,-253.5\"/>\n<text text-anchor=\"middle\" x=\"432\" y=\"-238.3\" font-family=\"Helvetica,sans-Serif\" font-size=\"14.00\" fill=\"#000000\">entropy = 0.0</text>\n<text text-anchor=\"middle\" x=\"432\" y=\"-223.3\" font-family=\"Helvetica,sans-Serif\" font-size=\"14.00\" fill=\"#000000\">samples = 5</text>\n<text text-anchor=\"middle\" x=\"432\" y=\"-208.3\" font-family=\"Helvetica,sans-Serif\" font-size=\"14.00\" fill=\"#000000\">value = [0, 5]</text>\n</g>\n<!-- 7&#45;&gt;9 -->\n<g id=\"edge9\" class=\"edge\">\n<title>7&#45;&gt;9</title>\n<path fill=\"none\" stroke=\"#000000\" d=\"M392.3188,-296.9465C398.5676,-285.9316 405.5112,-273.6922 411.8207,-262.5703\"/>\n<polygon fill=\"#000000\" stroke=\"#000000\" points=\"415.0523,-263.967 416.9424,-253.5422 408.9638,-260.513 415.0523,-263.967\"/>\n</g>\n<!-- 11 -->\n<g id=\"node12\" class=\"node\">\n<title>11</title>\n<polygon fill=\"none\" stroke=\"#000000\" points=\"682,-365 564,-365 564,-297 682,-297 682,-365\"/>\n<text text-anchor=\"middle\" x=\"623\" y=\"-349.8\" font-family=\"Helvetica,sans-Serif\" font-size=\"14.00\" fill=\"#000000\">X[4] &lt;= 4.5</text>\n<text text-anchor=\"middle\" x=\"623\" y=\"-334.8\" font-family=\"Helvetica,sans-Serif\" font-size=\"14.00\" fill=\"#000000\">entropy = 0.974</text>\n<text text-anchor=\"middle\" x=\"623\" y=\"-319.8\" font-family=\"Helvetica,sans-Serif\" font-size=\"14.00\" fill=\"#000000\">samples = 32</text>\n<text text-anchor=\"middle\" x=\"623\" y=\"-304.8\" font-family=\"Helvetica,sans-Serif\" font-size=\"14.00\" fill=\"#000000\">value = [19, 13]</text>\n</g>\n<!-- 10&#45;&gt;11 -->\n<g id=\"edge11\" class=\"edge\">\n<title>10&#45;&gt;11</title>\n<path fill=\"none\" stroke=\"#000000\" d=\"M623,-400.9465C623,-392.776 623,-383.9318 623,-375.3697\"/>\n<polygon fill=\"#000000\" stroke=\"#000000\" points=\"626.5001,-375.13 623,-365.13 619.5001,-375.13 626.5001,-375.13\"/>\n</g>\n<!-- 16 -->\n<g id=\"node17\" class=\"node\">\n<title>16</title>\n<polygon fill=\"none\" stroke=\"#000000\" points=\"880,-365 764,-365 764,-297 880,-297 880,-365\"/>\n<text text-anchor=\"middle\" x=\"822\" y=\"-349.8\" font-family=\"Helvetica,sans-Serif\" font-size=\"14.00\" fill=\"#000000\">X[0] &lt;= 6.5</text>\n<text text-anchor=\"middle\" x=\"822\" y=\"-334.8\" font-family=\"Helvetica,sans-Serif\" font-size=\"14.00\" fill=\"#000000\">entropy = 0.31</text>\n<text text-anchor=\"middle\" x=\"822\" y=\"-319.8\" font-family=\"Helvetica,sans-Serif\" font-size=\"14.00\" fill=\"#000000\">samples = 162</text>\n<text text-anchor=\"middle\" x=\"822\" y=\"-304.8\" font-family=\"Helvetica,sans-Serif\" font-size=\"14.00\" fill=\"#000000\">value = [9, 153]</text>\n</g>\n<!-- 10&#45;&gt;16 -->\n<g id=\"edge16\" class=\"edge\">\n<title>10&#45;&gt;16</title>\n<path fill=\"none\" stroke=\"#000000\" d=\"M685.1463,-402.5215C707.1971,-390.9975 732.1113,-377.977 754.5811,-366.234\"/>\n<polygon fill=\"#000000\" stroke=\"#000000\" points=\"756.474,-369.194 763.7155,-361.4602 753.2317,-362.9901 756.474,-369.194\"/>\n</g>\n<!-- 12 -->\n<g id=\"node13\" class=\"node\">\n<title>12</title>\n<polygon fill=\"none\" stroke=\"#000000\" points=\"619,-261 501,-261 501,-193 619,-193 619,-261\"/>\n<text text-anchor=\"middle\" x=\"560\" y=\"-245.8\" font-family=\"Helvetica,sans-Serif\" font-size=\"14.00\" fill=\"#000000\">X[0] &lt;= 8.5</text>\n<text text-anchor=\"middle\" x=\"560\" y=\"-230.8\" font-family=\"Helvetica,sans-Serif\" font-size=\"14.00\" fill=\"#000000\">entropy = 0.286</text>\n<text text-anchor=\"middle\" x=\"560\" y=\"-215.8\" font-family=\"Helvetica,sans-Serif\" font-size=\"14.00\" fill=\"#000000\">samples = 20</text>\n<text text-anchor=\"middle\" x=\"560\" y=\"-200.8\" font-family=\"Helvetica,sans-Serif\" font-size=\"14.00\" fill=\"#000000\">value = [19, 1]</text>\n</g>\n<!-- 11&#45;&gt;12 -->\n<g id=\"edge12\" class=\"edge\">\n<title>11&#45;&gt;12</title>\n<path fill=\"none\" stroke=\"#000000\" d=\"M602.3714,-296.9465C597.1501,-288.3271 591.4745,-278.9579 586.0245,-269.9611\"/>\n<polygon fill=\"#000000\" stroke=\"#000000\" points=\"588.8497,-267.8697 580.6749,-261.13 582.8626,-271.4965 588.8497,-267.8697\"/>\n</g>\n<!-- 15 -->\n<g id=\"node16\" class=\"node\">\n<title>15</title>\n<polygon fill=\"none\" stroke=\"#000000\" points=\"744.5,-253.5 637.5,-253.5 637.5,-200.5 744.5,-200.5 744.5,-253.5\"/>\n<text text-anchor=\"middle\" x=\"691\" y=\"-238.3\" font-family=\"Helvetica,sans-Serif\" font-size=\"14.00\" fill=\"#000000\">entropy = 0.0</text>\n<text text-anchor=\"middle\" x=\"691\" y=\"-223.3\" font-family=\"Helvetica,sans-Serif\" font-size=\"14.00\" fill=\"#000000\">samples = 12</text>\n<text text-anchor=\"middle\" x=\"691\" y=\"-208.3\" font-family=\"Helvetica,sans-Serif\" font-size=\"14.00\" fill=\"#000000\">value = [0, 12]</text>\n</g>\n<!-- 11&#45;&gt;15 -->\n<g id=\"edge15\" class=\"edge\">\n<title>11&#45;&gt;15</title>\n<path fill=\"none\" stroke=\"#000000\" d=\"M645.2657,-296.9465C652.5398,-285.8215 660.6306,-273.4473 667.9604,-262.237\"/>\n<polygon fill=\"#000000\" stroke=\"#000000\" points=\"671.1024,-263.8273 673.6455,-253.5422 665.2436,-259.9965 671.1024,-263.8273\"/>\n</g>\n<!-- 13 -->\n<g id=\"node14\" class=\"node\">\n<title>13</title>\n<polygon fill=\"none\" stroke=\"#000000\" points=\"492.5,-149.5 385.5,-149.5 385.5,-96.5 492.5,-96.5 492.5,-149.5\"/>\n<text text-anchor=\"middle\" x=\"439\" y=\"-134.3\" font-family=\"Helvetica,sans-Serif\" font-size=\"14.00\" fill=\"#000000\">entropy = 0.0</text>\n<text text-anchor=\"middle\" x=\"439\" y=\"-119.3\" font-family=\"Helvetica,sans-Serif\" font-size=\"14.00\" fill=\"#000000\">samples = 19</text>\n<text text-anchor=\"middle\" x=\"439\" y=\"-104.3\" font-family=\"Helvetica,sans-Serif\" font-size=\"14.00\" fill=\"#000000\">value = [19, 0]</text>\n</g>\n<!-- 12&#45;&gt;13 -->\n<g id=\"edge13\" class=\"edge\">\n<title>12&#45;&gt;13</title>\n<path fill=\"none\" stroke=\"#000000\" d=\"M520.3801,-192.9465C506.6676,-181.1606 491.3239,-167.9726 477.6873,-156.2519\"/>\n<polygon fill=\"#000000\" stroke=\"#000000\" points=\"479.7459,-153.4061 469.8808,-149.5422 475.1831,-158.7147 479.7459,-153.4061\"/>\n</g>\n<!-- 14 -->\n<g id=\"node15\" class=\"node\">\n<title>14</title>\n<polygon fill=\"none\" stroke=\"#000000\" points=\"611.5,-149.5 510.5,-149.5 510.5,-96.5 611.5,-96.5 611.5,-149.5\"/>\n<text text-anchor=\"middle\" x=\"561\" y=\"-134.3\" font-family=\"Helvetica,sans-Serif\" font-size=\"14.00\" fill=\"#000000\">entropy = 0.0</text>\n<text text-anchor=\"middle\" x=\"561\" y=\"-119.3\" font-family=\"Helvetica,sans-Serif\" font-size=\"14.00\" fill=\"#000000\">samples = 1</text>\n<text text-anchor=\"middle\" x=\"561\" y=\"-104.3\" font-family=\"Helvetica,sans-Serif\" font-size=\"14.00\" fill=\"#000000\">value = [0, 1]</text>\n</g>\n<!-- 12&#45;&gt;14 -->\n<g id=\"edge14\" class=\"edge\">\n<title>12&#45;&gt;14</title>\n<path fill=\"none\" stroke=\"#000000\" d=\"M560.3274,-192.9465C560.4302,-182.2621 560.544,-170.4254 560.6483,-159.5742\"/>\n<polygon fill=\"#000000\" stroke=\"#000000\" points=\"564.1484,-159.5754 560.7448,-149.5422 557.1487,-159.508 564.1484,-159.5754\"/>\n</g>\n<!-- 17 -->\n<g id=\"node18\" class=\"node\">\n<title>17</title>\n<polygon fill=\"none\" stroke=\"#000000\" points=\"881,-261 763,-261 763,-193 881,-193 881,-261\"/>\n<text text-anchor=\"middle\" x=\"822\" y=\"-245.8\" font-family=\"Helvetica,sans-Serif\" font-size=\"14.00\" fill=\"#000000\">X[3] &lt;= 5.5</text>\n<text text-anchor=\"middle\" x=\"822\" y=\"-230.8\" font-family=\"Helvetica,sans-Serif\" font-size=\"14.00\" fill=\"#000000\">entropy = 0.544</text>\n<text text-anchor=\"middle\" x=\"822\" y=\"-215.8\" font-family=\"Helvetica,sans-Serif\" font-size=\"14.00\" fill=\"#000000\">samples = 64</text>\n<text text-anchor=\"middle\" x=\"822\" y=\"-200.8\" font-family=\"Helvetica,sans-Serif\" font-size=\"14.00\" fill=\"#000000\">value = [8, 56]</text>\n</g>\n<!-- 16&#45;&gt;17 -->\n<g id=\"edge17\" class=\"edge\">\n<title>16&#45;&gt;17</title>\n<path fill=\"none\" stroke=\"#000000\" d=\"M822,-296.9465C822,-288.776 822,-279.9318 822,-271.3697\"/>\n<polygon fill=\"#000000\" stroke=\"#000000\" points=\"825.5001,-271.13 822,-261.13 818.5001,-271.13 825.5001,-271.13\"/>\n</g>\n<!-- 22 -->\n<g id=\"node23\" class=\"node\">\n<title>22</title>\n<polygon fill=\"none\" stroke=\"#000000\" points=\"1017,-261 899,-261 899,-193 1017,-193 1017,-261\"/>\n<text text-anchor=\"middle\" x=\"958\" y=\"-245.8\" font-family=\"Helvetica,sans-Serif\" font-size=\"14.00\" fill=\"#000000\">X[2] &lt;= 4.5</text>\n<text text-anchor=\"middle\" x=\"958\" y=\"-230.8\" font-family=\"Helvetica,sans-Serif\" font-size=\"14.00\" fill=\"#000000\">entropy = 0.082</text>\n<text text-anchor=\"middle\" x=\"958\" y=\"-215.8\" font-family=\"Helvetica,sans-Serif\" font-size=\"14.00\" fill=\"#000000\">samples = 98</text>\n<text text-anchor=\"middle\" x=\"958\" y=\"-200.8\" font-family=\"Helvetica,sans-Serif\" font-size=\"14.00\" fill=\"#000000\">value = [1, 97]</text>\n</g>\n<!-- 16&#45;&gt;22 -->\n<g id=\"edge22\" class=\"edge\">\n<title>16&#45;&gt;22</title>\n<path fill=\"none\" stroke=\"#000000\" d=\"M866.5315,-296.9465C878.8597,-287.519 892.3609,-277.1946 905.115,-267.4415\"/>\n<polygon fill=\"#000000\" stroke=\"#000000\" points=\"907.551,-269.9848 913.3685,-261.13 903.2988,-264.4243 907.551,-269.9848\"/>\n</g>\n<!-- 18 -->\n<g id=\"node19\" class=\"node\">\n<title>18</title>\n<polygon fill=\"none\" stroke=\"#000000\" points=\"752,-157 634,-157 634,-89 752,-89 752,-157\"/>\n<text text-anchor=\"middle\" x=\"693\" y=\"-141.8\" font-family=\"Helvetica,sans-Serif\" font-size=\"14.00\" fill=\"#000000\">X[7] &lt;= 7.5</text>\n<text text-anchor=\"middle\" x=\"693\" y=\"-126.8\" font-family=\"Helvetica,sans-Serif\" font-size=\"14.00\" fill=\"#000000\">entropy = 0.799</text>\n<text text-anchor=\"middle\" x=\"693\" y=\"-111.8\" font-family=\"Helvetica,sans-Serif\" font-size=\"14.00\" fill=\"#000000\">samples = 33</text>\n<text text-anchor=\"middle\" x=\"693\" y=\"-96.8\" font-family=\"Helvetica,sans-Serif\" font-size=\"14.00\" fill=\"#000000\">value = [8, 25]</text>\n</g>\n<!-- 17&#45;&gt;18 -->\n<g id=\"edge18\" class=\"edge\">\n<title>17&#45;&gt;18</title>\n<path fill=\"none\" stroke=\"#000000\" d=\"M779.7606,-192.9465C768.0669,-183.519 755.2606,-173.1946 743.163,-163.4415\"/>\n<polygon fill=\"#000000\" stroke=\"#000000\" points=\"745.3162,-160.6816 735.3343,-157.13 740.9227,-166.1312 745.3162,-160.6816\"/>\n</g>\n<!-- 21 -->\n<g id=\"node22\" class=\"node\">\n<title>21</title>\n<polygon fill=\"none\" stroke=\"#000000\" points=\"877.5,-149.5 770.5,-149.5 770.5,-96.5 877.5,-96.5 877.5,-149.5\"/>\n<text text-anchor=\"middle\" x=\"824\" y=\"-134.3\" font-family=\"Helvetica,sans-Serif\" font-size=\"14.00\" fill=\"#000000\">entropy = 0.0</text>\n<text text-anchor=\"middle\" x=\"824\" y=\"-119.3\" font-family=\"Helvetica,sans-Serif\" font-size=\"14.00\" fill=\"#000000\">samples = 31</text>\n<text text-anchor=\"middle\" x=\"824\" y=\"-104.3\" font-family=\"Helvetica,sans-Serif\" font-size=\"14.00\" fill=\"#000000\">value = [0, 31]</text>\n</g>\n<!-- 17&#45;&gt;21 -->\n<g id=\"edge21\" class=\"edge\">\n<title>17&#45;&gt;21</title>\n<path fill=\"none\" stroke=\"#000000\" d=\"M822.6549,-192.9465C822.8603,-182.2621 823.088,-170.4254 823.2966,-159.5742\"/>\n<polygon fill=\"#000000\" stroke=\"#000000\" points=\"826.7966,-159.6076 823.4896,-149.5422 819.7979,-159.473 826.7966,-159.6076\"/>\n</g>\n<!-- 19 -->\n<g id=\"node20\" class=\"node\">\n<title>19</title>\n<polygon fill=\"none\" stroke=\"#000000\" points=\"689,-53 579,-53 579,0 689,0 689,-53\"/>\n<text text-anchor=\"middle\" x=\"634\" y=\"-37.8\" font-family=\"Helvetica,sans-Serif\" font-size=\"14.00\" fill=\"#000000\">entropy = 0.89</text>\n<text text-anchor=\"middle\" x=\"634\" y=\"-22.8\" font-family=\"Helvetica,sans-Serif\" font-size=\"14.00\" fill=\"#000000\">samples = 26</text>\n<text text-anchor=\"middle\" x=\"634\" y=\"-7.8\" font-family=\"Helvetica,sans-Serif\" font-size=\"14.00\" fill=\"#000000\">value = [8, 18]</text>\n</g>\n<!-- 18&#45;&gt;19 -->\n<g id=\"edge19\" class=\"edge\">\n<title>18&#45;&gt;19</title>\n<path fill=\"none\" stroke=\"#000000\" d=\"M672.1988,-88.9777C666.8242,-80.187 661.0265,-70.7044 655.6115,-61.8477\"/>\n<polygon fill=\"#000000\" stroke=\"#000000\" points=\"658.5564,-59.9545 650.354,-53.2485 652.5842,-63.6059 658.5564,-59.9545\"/>\n</g>\n<!-- 20 -->\n<g id=\"node21\" class=\"node\">\n<title>20</title>\n<polygon fill=\"none\" stroke=\"#000000\" points=\"808.5,-53 707.5,-53 707.5,0 808.5,0 808.5,-53\"/>\n<text text-anchor=\"middle\" x=\"758\" y=\"-37.8\" font-family=\"Helvetica,sans-Serif\" font-size=\"14.00\" fill=\"#000000\">entropy = 0.0</text>\n<text text-anchor=\"middle\" x=\"758\" y=\"-22.8\" font-family=\"Helvetica,sans-Serif\" font-size=\"14.00\" fill=\"#000000\">samples = 7</text>\n<text text-anchor=\"middle\" x=\"758\" y=\"-7.8\" font-family=\"Helvetica,sans-Serif\" font-size=\"14.00\" fill=\"#000000\">value = [0, 7]</text>\n</g>\n<!-- 18&#45;&gt;20 -->\n<g id=\"edge20\" class=\"edge\">\n<title>18&#45;&gt;20</title>\n<path fill=\"none\" stroke=\"#000000\" d=\"M715.9166,-88.9777C721.8994,-80.0954 728.3582,-70.5067 734.377,-61.5711\"/>\n<polygon fill=\"#000000\" stroke=\"#000000\" points=\"737.2991,-63.4978 739.9829,-53.2485 731.4933,-59.5871 737.2991,-63.4978\"/>\n</g>\n<!-- 23 -->\n<g id=\"node24\" class=\"node\">\n<title>23</title>\n<polygon fill=\"none\" stroke=\"#000000\" points=\"1010,-157 900,-157 900,-89 1010,-89 1010,-157\"/>\n<text text-anchor=\"middle\" x=\"955\" y=\"-141.8\" font-family=\"Helvetica,sans-Serif\" font-size=\"14.00\" fill=\"#000000\">X[7] &lt;= 7.0</text>\n<text text-anchor=\"middle\" x=\"955\" y=\"-126.8\" font-family=\"Helvetica,sans-Serif\" font-size=\"14.00\" fill=\"#000000\">entropy = 0.25</text>\n<text text-anchor=\"middle\" x=\"955\" y=\"-111.8\" font-family=\"Helvetica,sans-Serif\" font-size=\"14.00\" fill=\"#000000\">samples = 24</text>\n<text text-anchor=\"middle\" x=\"955\" y=\"-96.8\" font-family=\"Helvetica,sans-Serif\" font-size=\"14.00\" fill=\"#000000\">value = [1, 23]</text>\n</g>\n<!-- 22&#45;&gt;23 -->\n<g id=\"edge23\" class=\"edge\">\n<title>22&#45;&gt;23</title>\n<path fill=\"none\" stroke=\"#000000\" d=\"M957.0177,-192.9465C956.782,-184.776 956.5269,-175.9318 956.2799,-167.3697\"/>\n<polygon fill=\"#000000\" stroke=\"#000000\" points=\"959.7715,-167.0249 955.9845,-157.13 952.7744,-167.2268 959.7715,-167.0249\"/>\n</g>\n<!-- 26 -->\n<g id=\"node27\" class=\"node\">\n<title>26</title>\n<polygon fill=\"none\" stroke=\"#000000\" points=\"1135.5,-149.5 1028.5,-149.5 1028.5,-96.5 1135.5,-96.5 1135.5,-149.5\"/>\n<text text-anchor=\"middle\" x=\"1082\" y=\"-134.3\" font-family=\"Helvetica,sans-Serif\" font-size=\"14.00\" fill=\"#000000\">entropy = 0.0</text>\n<text text-anchor=\"middle\" x=\"1082\" y=\"-119.3\" font-family=\"Helvetica,sans-Serif\" font-size=\"14.00\" fill=\"#000000\">samples = 74</text>\n<text text-anchor=\"middle\" x=\"1082\" y=\"-104.3\" font-family=\"Helvetica,sans-Serif\" font-size=\"14.00\" fill=\"#000000\">value = [0, 74]</text>\n</g>\n<!-- 22&#45;&gt;26 -->\n<g id=\"edge26\" class=\"edge\">\n<title>22&#45;&gt;26</title>\n<path fill=\"none\" stroke=\"#000000\" d=\"M998.6022,-192.9465C1012.6547,-181.1606 1028.3788,-167.9726 1042.3535,-156.2519\"/>\n<polygon fill=\"#000000\" stroke=\"#000000\" points=\"1044.9408,-158.65 1050.3536,-149.5422 1040.4425,-153.2866 1044.9408,-158.65\"/>\n</g>\n<!-- 24 -->\n<g id=\"node25\" class=\"node\">\n<title>24</title>\n<polygon fill=\"none\" stroke=\"#000000\" points=\"935.5,-53 828.5,-53 828.5,0 935.5,0 935.5,-53\"/>\n<text text-anchor=\"middle\" x=\"882\" y=\"-37.8\" font-family=\"Helvetica,sans-Serif\" font-size=\"14.00\" fill=\"#000000\">entropy = 0.0</text>\n<text text-anchor=\"middle\" x=\"882\" y=\"-22.8\" font-family=\"Helvetica,sans-Serif\" font-size=\"14.00\" fill=\"#000000\">samples = 19</text>\n<text text-anchor=\"middle\" x=\"882\" y=\"-7.8\" font-family=\"Helvetica,sans-Serif\" font-size=\"14.00\" fill=\"#000000\">value = [0, 19]</text>\n</g>\n<!-- 23&#45;&gt;24 -->\n<g id=\"edge24\" class=\"edge\">\n<title>23&#45;&gt;24</title>\n<path fill=\"none\" stroke=\"#000000\" d=\"M929.2629,-88.9777C922.4744,-80.0039 915.1404,-70.3089 908.3216,-61.295\"/>\n<polygon fill=\"#000000\" stroke=\"#000000\" points=\"911.059,-59.1121 902.2346,-53.2485 905.4763,-63.3352 911.059,-59.1121\"/>\n</g>\n<!-- 25 -->\n<g id=\"node26\" class=\"node\">\n<title>25</title>\n<polygon fill=\"none\" stroke=\"#000000\" points=\"1072,-53 954,-53 954,0 1072,0 1072,-53\"/>\n<text text-anchor=\"middle\" x=\"1013\" y=\"-37.8\" font-family=\"Helvetica,sans-Serif\" font-size=\"14.00\" fill=\"#000000\">entropy = 0.722</text>\n<text text-anchor=\"middle\" x=\"1013\" y=\"-22.8\" font-family=\"Helvetica,sans-Serif\" font-size=\"14.00\" fill=\"#000000\">samples = 5</text>\n<text text-anchor=\"middle\" x=\"1013\" y=\"-7.8\" font-family=\"Helvetica,sans-Serif\" font-size=\"14.00\" fill=\"#000000\">value = [1, 4]</text>\n</g>\n<!-- 23&#45;&gt;25 -->\n<g id=\"edge25\" class=\"edge\">\n<title>23&#45;&gt;25</title>\n<path fill=\"none\" stroke=\"#000000\" d=\"M975.4486,-88.9777C980.7322,-80.187 986.4316,-70.7044 991.7548,-61.8477\"/>\n<polygon fill=\"#000000\" stroke=\"#000000\" points=\"994.7715,-63.6225 996.9232,-53.2485 988.7718,-60.0165 994.7715,-63.6225\"/>\n</g>\n</g>\n</svg>\n"
          },
          "metadata": {},
          "execution_count": 218
        }
      ]
    },
    {
      "cell_type": "code",
      "source": [
        ""
      ],
      "metadata": {
        "id": "jZTHMPeIhDCo"
      },
      "execution_count": 218,
      "outputs": []
    },
    {
      "cell_type": "markdown",
      "source": [
        "# **Question 1 (f) AdaBoost, XGBoost and Random Forest**"
      ],
      "metadata": {
        "id": "9V18rn37hEzV"
      }
    },
    {
      "cell_type": "markdown",
      "source": [
        "**Adaboost**"
      ],
      "metadata": {
        "id": "XIO7E3jBkUAG"
      }
    },
    {
      "cell_type": "code",
      "source": [
        "from sklearn.ensemble import AdaBoostClassifier\n",
        "\n",
        "classifier_ADB = []\n",
        "MCR_ADB = []\n",
        "weighted_cost_ADB = []\n",
        "\n",
        "for   wl in [100,200,300,400,500]:\n",
        "  classifier_ADB_ = AdaBoostClassifier(n_estimators=wl)\n",
        "  classifier_ADB_.fit(train_data,train_label)\n",
        "  classifier_ADB.append(classifier_ADB_)\n",
        "\n",
        "  test_pred_ADB = classifier_ADB_.predict(test_data)\n",
        "\n",
        "  mcr_ADB , comparison_ADB = miss_classification_rate(test_pred_ADB)\n",
        "  MCR_ADB.append(mcr_ADB)\n",
        "\n",
        "  print(\"-----AdaBoost with\", wl , \" weak learnners-----\")\n",
        "  print()\n",
        "  print(\"Number of Miss Classification : \"  ,  283 - np.count_nonzero(comparison_ADB))\n",
        "  print(\"Miss classification rate (MCR): \", mcr_ADB)\n",
        "  print()\n",
        "\n",
        "  # \"\"\"*** Weighted Cost ADB***\"\"\"\n",
        "  weighted_cost_ADB.append(weighted_cost(comparison_ADB)) \n",
        "\n",
        "  print(\"***** Weighted Cost of ADB *****\\n\")\n",
        "  print(weighted_cost_ADB[int(wl/100)-1])\n",
        "  print()"
      ],
      "metadata": {
        "colab": {
          "base_uri": "https://localhost:8080/"
        },
        "id": "e8z8jD9_hLnc",
        "outputId": "5dd674ae-4a7e-4835-869a-64753255470c"
      },
      "execution_count": 219,
      "outputs": [
        {
          "output_type": "stream",
          "name": "stdout",
          "text": [
            "-----AdaBoost with 100  weak learnners-----\n",
            "\n",
            "Number of Miss Classification :  11\n",
            "Miss classification rate (MCR):  0.03886925795053009\n",
            "\n",
            "***** Weighted Cost of ADB *****\n",
            "\n",
            "0.10179294389820705\n",
            "\n",
            "-----AdaBoost with 200  weak learnners-----\n",
            "\n",
            "Number of Miss Classification :  11\n",
            "Miss classification rate (MCR):  0.03886925795053009\n",
            "\n",
            "***** Weighted Cost of ADB *****\n",
            "\n",
            "0.10179294389820705\n",
            "\n",
            "-----AdaBoost with 300  weak learnners-----\n",
            "\n",
            "Number of Miss Classification :  14\n",
            "Miss classification rate (MCR):  0.04946996466431097\n",
            "\n",
            "***** Weighted Cost of ADB *****\n",
            "\n",
            "0.14517061885482938\n",
            "\n",
            "-----AdaBoost with 400  weak learnners-----\n",
            "\n",
            "Number of Miss Classification :  11\n",
            "Miss classification rate (MCR):  0.03886925795053009\n",
            "\n",
            "***** Weighted Cost of ADB *****\n",
            "\n",
            "0.10179294389820705\n",
            "\n",
            "-----AdaBoost with 500  weak learnners-----\n",
            "\n",
            "Number of Miss Classification :  12\n",
            "Miss classification rate (MCR):  0.04240282685512364\n",
            "\n",
            "***** Weighted Cost of ADB *****\n",
            "\n",
            "0.11625216888374783\n",
            "\n"
          ]
        }
      ]
    },
    {
      "cell_type": "markdown",
      "source": [
        "**XGBoost Classifier**"
      ],
      "metadata": {
        "id": "C26jB9cpo-9W"
      }
    },
    {
      "cell_type": "code",
      "source": [
        "from xgboost.sklearn import XGBClassifier\n",
        "\n",
        "classifier_XGB = []\n",
        "MCR_XGB = []\n",
        "weighted_cost_XGB = []\n",
        "\n",
        "for   wl in [100,200,300,400,500]:\n",
        "  classifier_XGB_ = AdaBoostClassifier(n_estimators=wl)\n",
        "  classifier_XGB_.fit(train_data,train_label)\n",
        "  classifier_XGB.append(classifier_XGB_)\n",
        "\n",
        "  test_pred_XGB = classifier_XGB_.predict(test_data)\n",
        "\n",
        "  mcr_XGB , comparison_XGB = miss_classification_rate(test_pred_XGB)\n",
        "  MCR_XGB.append(mcr_XGB)\n",
        "\n",
        "  print(\"-----XGboost with\", wl , \" weak learnners-----\")\n",
        "  print()\n",
        "  print(\"Number of Miss Classification : \"  ,  283 - np.count_nonzero(comparison_XGB))\n",
        "  print(\"Miss classification rate (MCR): \", mcr_XGB)\n",
        "  print()\n",
        "\n",
        "  # \"\"\"*** Weighted Cost XGB***\"\"\"\n",
        "  weighted_cost_XGB.append(weighted_cost(comparison_XGB)) \n",
        "\n",
        "  print(\"***** Weighted Cost of XGB *****\\n\")\n",
        "  print(weighted_cost_XGB[int(wl/100)-1])\n",
        "  print()\n"
      ],
      "metadata": {
        "colab": {
          "base_uri": "https://localhost:8080/"
        },
        "id": "uiHrvFsDo4Zf",
        "outputId": "ba5dd5dc-f118-482b-a2a3-73a0f06cb79a"
      },
      "execution_count": 220,
      "outputs": [
        {
          "output_type": "stream",
          "name": "stdout",
          "text": [
            "-----XGboost with 100  weak learnners-----\n",
            "\n",
            "Number of Miss Classification :  11\n",
            "Miss classification rate (MCR):  0.03886925795053009\n",
            "\n",
            "***** Weighted Cost of XGB *****\n",
            "\n",
            "0.10179294389820705\n",
            "\n",
            "-----XGboost with 200  weak learnners-----\n",
            "\n",
            "Number of Miss Classification :  11\n",
            "Miss classification rate (MCR):  0.03886925795053009\n",
            "\n",
            "***** Weighted Cost of XGB *****\n",
            "\n",
            "0.10179294389820705\n",
            "\n",
            "-----XGboost with 300  weak learnners-----\n",
            "\n",
            "Number of Miss Classification :  14\n",
            "Miss classification rate (MCR):  0.04946996466431097\n",
            "\n",
            "***** Weighted Cost of XGB *****\n",
            "\n",
            "0.14517061885482938\n",
            "\n",
            "-----XGboost with 400  weak learnners-----\n",
            "\n",
            "Number of Miss Classification :  11\n",
            "Miss classification rate (MCR):  0.03886925795053009\n",
            "\n",
            "***** Weighted Cost of XGB *****\n",
            "\n",
            "0.10179294389820705\n",
            "\n",
            "-----XGboost with 500  weak learnners-----\n",
            "\n",
            "Number of Miss Classification :  12\n",
            "Miss classification rate (MCR):  0.04240282685512364\n",
            "\n",
            "***** Weighted Cost of XGB *****\n",
            "\n",
            "0.11625216888374783\n",
            "\n"
          ]
        }
      ]
    },
    {
      "cell_type": "markdown",
      "source": [
        "**Random Forest Classifier**"
      ],
      "metadata": {
        "id": "2TnnjA1bmx0J"
      }
    },
    {
      "cell_type": "code",
      "source": [
        "from sklearn.ensemble import RandomForestClassifier\n",
        "\n",
        "classifier_RF = []\n",
        "MCR_RF = []\n",
        "weighted_cost_RF = []\n",
        "\n",
        "for   wl in [100,200,300,400,500]:\n",
        "  classifier_RF_ = AdaBoostClassifier(n_estimators=wl)\n",
        "  classifier_RF_.fit(train_data,train_label)\n",
        "  classifier_RF.append(classifier_RF_)\n",
        "\n",
        "  test_pred_RF = classifier_RF_.predict(test_data)\n",
        "\n",
        "  mcr_RF , comparison_RF = miss_classification_rate(test_pred_RF)\n",
        "  MCR_RF.append(mcr_RF)\n",
        "\n",
        "  print(\"-----Random Forrest with\", wl , \" weak learnners-----\")\n",
        "  print()\n",
        "  print(\"Number of Miss Classification : \"  ,  283 - np.count_nonzero(comparison_RF))\n",
        "  print(\"Miss classification rate (MCR): \", mcr_RF)\n",
        "  print()\n",
        "\n",
        "  # \"\"\"*** Weighted Cost RF***\"\"\"\n",
        "  weighted_cost_RF.append(weighted_cost(comparison_RF)) \n",
        "\n",
        "  print(\"***** Weighted Cost of RF *****\\n\")\n",
        "  print(weighted_cost_RF[int(wl/100)-1])\n",
        "  print()"
      ],
      "metadata": {
        "colab": {
          "base_uri": "https://localhost:8080/"
        },
        "id": "vL4gRKmbmwyJ",
        "outputId": "89c9c4b5-e016-4ba6-a825-b4e17dd3c0b6"
      },
      "execution_count": 221,
      "outputs": [
        {
          "output_type": "stream",
          "name": "stdout",
          "text": [
            "-----Random Forrest with 100  weak learnners-----\n",
            "\n",
            "Number of Miss Classification :  11\n",
            "Miss classification rate (MCR):  0.03886925795053009\n",
            "\n",
            "***** Weighted Cost of RF *****\n",
            "\n",
            "0.10179294389820705\n",
            "\n",
            "-----Random Forrest with 200  weak learnners-----\n",
            "\n",
            "Number of Miss Classification :  11\n",
            "Miss classification rate (MCR):  0.03886925795053009\n",
            "\n",
            "***** Weighted Cost of RF *****\n",
            "\n",
            "0.10179294389820705\n",
            "\n",
            "-----Random Forrest with 300  weak learnners-----\n",
            "\n",
            "Number of Miss Classification :  14\n",
            "Miss classification rate (MCR):  0.04946996466431097\n",
            "\n",
            "***** Weighted Cost of RF *****\n",
            "\n",
            "0.14517061885482938\n",
            "\n",
            "-----Random Forrest with 400  weak learnners-----\n",
            "\n",
            "Number of Miss Classification :  11\n",
            "Miss classification rate (MCR):  0.03886925795053009\n",
            "\n",
            "***** Weighted Cost of RF *****\n",
            "\n",
            "0.10179294389820705\n",
            "\n",
            "-----Random Forrest with 500  weak learnners-----\n",
            "\n",
            "Number of Miss Classification :  12\n",
            "Miss classification rate (MCR):  0.04240282685512364\n",
            "\n",
            "***** Weighted Cost of RF *****\n",
            "\n",
            "0.11625216888374783\n",
            "\n"
          ]
        }
      ]
    },
    {
      "cell_type": "markdown",
      "source": [
        "# **Question 1 (f) Weighted Cost**"
      ],
      "metadata": {
        "id": "44W9Ly7rV8sM"
      }
    },
    {
      "cell_type": "markdown",
      "source": [
        "In terms of **Miss Classification Rate (MCR)** Logistic Regression and kNN classifier with 6,8,9 and 10 nearest neighbour performs the best. With *MCR=0.010600706713780883* where only 3 test data were mis-classified.\n",
        "\n",
        "\n",
        "```\n",
        "\n",
        "```\n",
        "\n"
      ],
      "metadata": {
        "id": "NTugNNFXVTQG"
      }
    },
    {
      "cell_type": "markdown",
      "source": [
        "In terms of **Weighted Cost** kNN classifier with *k=3* is the best with weighted cost = 0.000578368999421631. So it misclassified 5 healty instances."
      ],
      "metadata": {
        "id": "nrWJsSUYX2Bm"
      }
    },
    {
      "cell_type": "code",
      "source": [
        "print(\"***Logistic Regression***\")\n",
        "print(\"MCR : \", MCR_LR, \"\\nWeighted Cost : \", weighted_cost_LR)\n",
        "print()\n",
        "\n",
        "print(\"***KNN***\")\n",
        "print(\"MCR : \", MCR_knn)\n",
        "print(\"Weighted Cost : \", weighted_cost_KNN)\n",
        "print()\n",
        "\n",
        "print(\"***LDA***\")\n",
        "print(\"MCR : \", MCR_LDA)\n",
        "print(\"Weighted Cost : \" , weighted_cost_LDA)\n",
        "print()\n",
        "\n",
        "print(\"***SVM Linear***\")\n",
        "print(\"MCR : \", MCR_SVM_lin)\n",
        "print(\"Weighted Cost : \", weighted_cost_SVM_lin)\n",
        "print()\n",
        "\n",
        "print(\"***SVM Poly***\")\n",
        "print(\"MCR : \", MCR_SVM_poly)\n",
        "print(\"Weighted Cost : \", weighted_cost_SVM_poly)\n",
        "print()\n",
        "\n",
        "print(\"***SVM RBF***\")\n",
        "print(\"MCR : \", MCR_SVM_rbf)\n",
        "print(\"Weighted Cost : \", weighted_cost_SVM_rbf)\n",
        "print()\n",
        "\n",
        "print(\"***SVM Sigmoid***\")\n",
        "print(\"MCR : \", MCR_SVM_sig)\n",
        "print(\"Weighted Cost : \", weighted_cost_SVM_sig)\n",
        "print()\n",
        "\n",
        "print(\"***Decision Tree***\")\n",
        "print(\"MCR : \", MCR_DT)\n",
        "print(\"Weighted Cost : \", weighted_cost_DT)\n",
        "print()\n",
        "\n",
        "print(\"***AdaBoost***\")\n",
        "print(\"MCR : \", MCR_ADB)\n",
        "print(\"Weighted Cost : \", weighted_cost_ADB)\n",
        "print()\n",
        "\n",
        "print(\"***XGBoost***\")\n",
        "print(\"MCR : \", MCR_XGB)\n",
        "print(\"Weighted Cost : \", weighted_cost_XGB)\n",
        "print()\n",
        "\n",
        "print(\"***Random Forest***\")\n",
        "print(\"MCR : \", MCR_RF)\n",
        "print(\"Weighted Cost : \", weighted_cost_RF)\n",
        "print()\n",
        "\n"
      ],
      "metadata": {
        "colab": {
          "base_uri": "https://localhost:8080/"
        },
        "id": "d8BG3tG-WDxw",
        "outputId": "d5bf19df-e7d8-492e-d63a-9a0645322768"
      },
      "execution_count": 222,
      "outputs": [
        {
          "output_type": "stream",
          "name": "stdout",
          "text": [
            "***Logistic Regression***\n",
            "MCR :  0.010600706713780883 \n",
            "Weighted Cost :  0.01474840948525159\n",
            "\n",
            "***KNN***\n",
            "MCR :  [0.017667844522968212, 0.028268551236749095, 0.014134275618374548, 0.017667844522968212, 0.017667844522968212, 0.010600706713780883, 0.014134275618374548, 0.010600706713780883, 0.010600706713780883, 0.010600706713780883]\n",
            "Weighted Cost :  [0.015037593984962405, 0.08704453441295545, 0.000578368999421631, 0.029352226720647773, 0.015037593984962405, 0.01474840948525159, 0.014893001735106997, 0.01474840948525159, 0.01474840948525159, 0.01474840948525159]\n",
            "\n",
            "***LDA***\n",
            "MCR :  0.017667844522968212\n",
            "Weighted Cost :  0.0579814921920185\n",
            "\n",
            "***SVM Linear***\n",
            "MCR :  0.014134275618374548\n",
            "Weighted Cost :  0.014893001735106997\n",
            "\n",
            "***SVM Poly***\n",
            "MCR :  [0.014134275618374548, 0.014134275618374548, 0.014134275618374548, 0.014134275618374548]\n",
            "Weighted Cost :  [0.014893001735106997, 0.014893001735106997, 0.014893001735106997, 0.014893001735106997]\n",
            "\n",
            "***SVM RBF***\n",
            "MCR :  0.017667844522968212\n",
            "Weighted Cost :  0.015037593984962405\n",
            "\n",
            "***SVM Sigmoid***\n",
            "MCR :  0.017667844522968212\n",
            "Weighted Cost :  0.015037593984962405\n",
            "\n",
            "***Decision Tree***\n",
            "MCR :  [0.035335689045936425, 0.02473498233215543, 0.028268551236749095, 0.03180212014134276, 0.04240282685512364, 0.04240282685512364, 0.035335689045936425, 0.04946996466431097]\n",
            "Weighted Cost :  [0.0579814921920185, 0.0579814921920185, 0.0579814921920185, 0.0579814921920185, 0.0579814921920185, 0.0579814921920185, 0.0579814921920185, 0.0579814921920185]\n",
            "\n",
            "***AdaBoost***\n",
            "MCR :  [0.03886925795053009, 0.03886925795053009, 0.04946996466431097, 0.03886925795053009, 0.04240282685512364]\n",
            "Weighted Cost :  [0.10179294389820705, 0.10179294389820705, 0.14517061885482938, 0.10179294389820705, 0.11625216888374783]\n",
            "\n",
            "***XGBoost***\n",
            "MCR :  [0.03886925795053009, 0.03886925795053009, 0.04946996466431097, 0.03886925795053009, 0.04240282685512364]\n",
            "Weighted Cost :  [0.10179294389820705, 0.10179294389820705, 0.14517061885482938, 0.10179294389820705, 0.11625216888374783]\n",
            "\n",
            "***Random Forest***\n",
            "MCR :  [0.03886925795053009, 0.03886925795053009, 0.04946996466431097, 0.03886925795053009, 0.04240282685512364]\n",
            "Weighted Cost :  [0.10179294389820705, 0.10179294389820705, 0.14517061885482938, 0.10179294389820705, 0.11625216888374783]\n",
            "\n"
          ]
        }
      ]
    }
  ]
}